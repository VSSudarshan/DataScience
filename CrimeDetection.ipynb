{
 "cells": [
  {
   "cell_type": "markdown",
   "metadata": {},
   "source": [
    "# CRIME DETECTION FROM SOCIAL MEDIA USING CONVOLUTIONAL NEURAL NETWORK"
   ]
  },
  {
   "cell_type": "code",
   "execution_count": 1,
   "metadata": {},
   "outputs": [
    {
     "name": "stderr",
     "output_type": "stream",
     "text": [
      "[nltk_data] Downloading package averaged_perceptron_tagger to\n",
      "[nltk_data]     C:\\Users\\sudar\\AppData\\Roaming\\nltk_data...\n",
      "[nltk_data]   Package averaged_perceptron_tagger is already up-to-\n",
      "[nltk_data]       date!\n"
     ]
    }
   ],
   "source": [
    "# Importing the required libraries\n",
    "import pandas as pd\n",
    "import numpy as np\n",
    "import matplotlib.pyplot as plt\n",
    "import seaborn as sns\n",
    "import re\n",
    "%matplotlib inline\n",
    "\n",
    "#Ignore warnings\n",
    "import warnings\n",
    "warnings.filterwarnings(\"ignore\")\n",
    "pd.set_option('display.max_columns', None)\n",
    "pd.set_option('display.max_rows', None)\n",
    "\n",
    "# nltk\n",
    "import nltk\n",
    "from nltk.corpus import stopwords\n",
    "from  nltk.stem import SnowballStemmer\n",
    "nltk.download('averaged_perceptron_tagger')\n",
    "\n",
    "# Date\n",
    "from dateutil.parser import parse\n",
    "import datetime\n",
    "\n",
    "# Model Imports\n",
    "from sklearn.model_selection import train_test_split"
   ]
  },
  {
   "cell_type": "markdown",
   "metadata": {},
   "source": [
    "# EDA \n",
    "### Step 1 - Data Sourcing "
   ]
  },
  {
   "cell_type": "code",
   "execution_count": 2,
   "metadata": {},
   "outputs": [],
   "source": [
    "### File - training.1600000.processed.noemoticon\n",
    "\n",
    "tweets = pd.read_csv(\"training.1600000.processed.noemoticon.csv\", encoding = 'ISO-8859-1', header=None)\n",
    "tweets.columns = [\"target\", \"ids\", \"date\", \"query\", \"user\", \"text\"]"
   ]
  },
  {
   "cell_type": "code",
   "execution_count": 3,
   "metadata": {},
   "outputs": [
    {
     "data": {
      "text/plain": [
       "(1600000, 6)"
      ]
     },
     "execution_count": 3,
     "metadata": {},
     "output_type": "execute_result"
    }
   ],
   "source": [
    "# Tweets dimension \n",
    "tweets.shape"
   ]
  },
  {
   "cell_type": "markdown",
   "metadata": {},
   "source": [
    "#### Checking Positive and Negative Tweets."
   ]
  },
  {
   "cell_type": "code",
   "execution_count": 4,
   "metadata": {},
   "outputs": [
    {
     "data": {
      "text/html": [
       "<div>\n",
       "<style scoped>\n",
       "    .dataframe tbody tr th:only-of-type {\n",
       "        vertical-align: middle;\n",
       "    }\n",
       "\n",
       "    .dataframe tbody tr th {\n",
       "        vertical-align: top;\n",
       "    }\n",
       "\n",
       "    .dataframe thead th {\n",
       "        text-align: right;\n",
       "    }\n",
       "</style>\n",
       "<table border=\"1\" class=\"dataframe\">\n",
       "  <thead>\n",
       "    <tr style=\"text-align: right;\">\n",
       "      <th></th>\n",
       "      <th>target</th>\n",
       "      <th>ids</th>\n",
       "      <th>date</th>\n",
       "      <th>query</th>\n",
       "      <th>user</th>\n",
       "      <th>text</th>\n",
       "    </tr>\n",
       "  </thead>\n",
       "  <tbody>\n",
       "    <tr>\n",
       "      <th>800000</th>\n",
       "      <td>4</td>\n",
       "      <td>1467822272</td>\n",
       "      <td>Mon Apr 06 22:22:45 PDT 2009</td>\n",
       "      <td>NO_QUERY</td>\n",
       "      <td>ersle</td>\n",
       "      <td>I LOVE @Health4UandPets u guys r the best!!</td>\n",
       "    </tr>\n",
       "    <tr>\n",
       "      <th>800001</th>\n",
       "      <td>4</td>\n",
       "      <td>1467822273</td>\n",
       "      <td>Mon Apr 06 22:22:45 PDT 2009</td>\n",
       "      <td>NO_QUERY</td>\n",
       "      <td>becca210</td>\n",
       "      <td>im meeting up with one of my besties tonight! ...</td>\n",
       "    </tr>\n",
       "    <tr>\n",
       "      <th>800002</th>\n",
       "      <td>4</td>\n",
       "      <td>1467822283</td>\n",
       "      <td>Mon Apr 06 22:22:46 PDT 2009</td>\n",
       "      <td>NO_QUERY</td>\n",
       "      <td>Wingman29</td>\n",
       "      <td>@DaRealSunisaKim Thanks for the Twitter add, S...</td>\n",
       "    </tr>\n",
       "    <tr>\n",
       "      <th>800003</th>\n",
       "      <td>4</td>\n",
       "      <td>1467822287</td>\n",
       "      <td>Mon Apr 06 22:22:46 PDT 2009</td>\n",
       "      <td>NO_QUERY</td>\n",
       "      <td>katarinka</td>\n",
       "      <td>Being sick can be really cheap when it hurts t...</td>\n",
       "    </tr>\n",
       "    <tr>\n",
       "      <th>800004</th>\n",
       "      <td>4</td>\n",
       "      <td>1467822293</td>\n",
       "      <td>Mon Apr 06 22:22:46 PDT 2009</td>\n",
       "      <td>NO_QUERY</td>\n",
       "      <td>_EmilyYoung</td>\n",
       "      <td>@LovesBrooklyn2 he has that effect on everyone</td>\n",
       "    </tr>\n",
       "  </tbody>\n",
       "</table>\n",
       "</div>"
      ],
      "text/plain": [
       "        target         ids                          date     query  \\\n",
       "800000       4  1467822272  Mon Apr 06 22:22:45 PDT 2009  NO_QUERY   \n",
       "800001       4  1467822273  Mon Apr 06 22:22:45 PDT 2009  NO_QUERY   \n",
       "800002       4  1467822283  Mon Apr 06 22:22:46 PDT 2009  NO_QUERY   \n",
       "800003       4  1467822287  Mon Apr 06 22:22:46 PDT 2009  NO_QUERY   \n",
       "800004       4  1467822293  Mon Apr 06 22:22:46 PDT 2009  NO_QUERY   \n",
       "\n",
       "               user                                               text  \n",
       "800000        ersle       I LOVE @Health4UandPets u guys r the best!!   \n",
       "800001     becca210  im meeting up with one of my besties tonight! ...  \n",
       "800002    Wingman29  @DaRealSunisaKim Thanks for the Twitter add, S...  \n",
       "800003    katarinka  Being sick can be really cheap when it hurts t...  \n",
       "800004  _EmilyYoung    @LovesBrooklyn2 he has that effect on everyone   "
      ]
     },
     "execution_count": 4,
     "metadata": {},
     "output_type": "execute_result"
    }
   ],
   "source": [
    "## Take Subset of Tweets due to performance issues. \n",
    "tweets_P = tweets[tweets.target == 4].head(1000)\n",
    "tweets_NEU = tweets[tweets.target == 2].head(1000)\n",
    "tweets_N = tweets[tweets.target == 0].head(1000)\n",
    "tweets_P.head()"
   ]
  },
  {
   "cell_type": "code",
   "execution_count": 5,
   "metadata": {},
   "outputs": [
    {
     "data": {
      "text/plain": [
       "(2000, 6)"
      ]
     },
     "execution_count": 5,
     "metadata": {},
     "output_type": "execute_result"
    }
   ],
   "source": [
    "tweets = pd.concat([tweets_P,tweets_NEU,tweets_N])\n",
    "tweets.shape"
   ]
  },
  {
   "cell_type": "code",
   "execution_count": 6,
   "metadata": {},
   "outputs": [
    {
     "name": "stdout",
     "output_type": "stream",
     "text": [
      "<class 'pandas.core.frame.DataFrame'>\n",
      "Int64Index: 2000 entries, 800000 to 999\n",
      "Data columns (total 6 columns):\n",
      " #   Column  Non-Null Count  Dtype \n",
      "---  ------  --------------  ----- \n",
      " 0   target  2000 non-null   int64 \n",
      " 1   ids     2000 non-null   int64 \n",
      " 2   date    2000 non-null   object\n",
      " 3   query   2000 non-null   object\n",
      " 4   user    2000 non-null   object\n",
      " 5   text    2000 non-null   object\n",
      "dtypes: int64(2), object(4)\n",
      "memory usage: 109.4+ KB\n"
     ]
    }
   ],
   "source": [
    "# What type of values are stored in the columns?\n",
    "tweets.info(verbose=True)"
   ]
  },
  {
   "cell_type": "code",
   "execution_count": 7,
   "metadata": {},
   "outputs": [
    {
     "data": {
      "text/plain": [
       "target    0.0\n",
       "ids       0.0\n",
       "date      0.0\n",
       "query     0.0\n",
       "user      0.0\n",
       "text      0.0\n",
       "dtype: float64"
      ]
     },
     "execution_count": 7,
     "metadata": {},
     "output_type": "execute_result"
    }
   ],
   "source": [
    "# Checking the percentage of missing values\n",
    "round(100*(tweets.isnull().sum()/len(tweets.index)), 2)"
   ]
  },
  {
   "cell_type": "code",
   "execution_count": 8,
   "metadata": {},
   "outputs": [
    {
     "name": "stdout",
     "output_type": "stream",
     "text": [
      "Duplicate Row checks for tweets ->False\n"
     ]
    }
   ],
   "source": [
    "# To make sure that number of duplicate rows are zero, checking whether their is any duplicate applications.\n",
    "\n",
    "print(\"Duplicate Row checks for tweets ->\" + str(sum(tweets.duplicated(subset = \"ids\")) == 0))"
   ]
  },
  {
   "cell_type": "markdown",
   "metadata": {},
   "source": [
    "### Parameters"
   ]
  },
  {
   "cell_type": "code",
   "execution_count": 9,
   "metadata": {},
   "outputs": [],
   "source": [
    "# TEXT CLENAING\n",
    "TEXT_CLEANING_RE = \"@\\S+|https?:\\S+|http?:\\S|[^A-Za-z0-9]+\"\n",
    "\n",
    "# WORD2VEC \n",
    "W2V_SIZE = 300\n",
    "W2V_WINDOW = 7\n",
    "W2V_EPOCH = 32\n",
    "W2V_MIN_COUNT = 10\n",
    "\n",
    "# KERAS\n",
    "SEQUENCE_LENGTH = 300\n",
    "EPOCHS = 8\n",
    "BATCH_SIZE = 1024\n",
    "\n",
    "# SENTIMENT\n",
    "POSITIVE = \"POSITIVE\"\n",
    "NEGATIVE = \"NEGATIVE\"\n",
    "NEUTRAL = \"NEUTRAL\"\n",
    "SENTIMENT_THRESHOLDS = (0.4, 0.7)\n",
    "\n",
    "# EXPORT\n",
    "KERAS_MODEL = \"model.h5\"\n",
    "WORD2VEC_MODEL = \"model.w2v\"\n",
    "TOKENIZER_MODEL = \"tokenizer.pkl\"\n",
    "ENCODER_MODEL = \"encoder.pkl\""
   ]
  },
  {
   "cell_type": "markdown",
   "metadata": {},
   "source": [
    "### Step 2 - Preprocessing"
   ]
  },
  {
   "cell_type": "code",
   "execution_count": 10,
   "metadata": {},
   "outputs": [],
   "source": [
    "# TEXT CLENAING\n",
    "### Remove Username \n",
    "### Remove Special Characters and Punctuations\n",
    "\n",
    "def preprocess(text, stem=False):\n",
    "     # Remove link,user and special characters\n",
    "    text = re.sub(TEXT_CLEANING_RE, ' ', str(text).lower()).strip()\n",
    "    tokens = []\n",
    "    for token in text.split():\n",
    "        if token not in stop_words:\n",
    "            if stem:\n",
    "                tokens.append(stemmer.stem(token))\n",
    "            else:\n",
    "                tokens.append(token)\n",
    "    return \" \".join(tokens)"
   ]
  },
  {
   "cell_type": "code",
   "execution_count": 11,
   "metadata": {},
   "outputs": [
    {
     "name": "stderr",
     "output_type": "stream",
     "text": [
      "[nltk_data] Downloading package stopwords to\n",
      "[nltk_data]     C:\\Users\\sudar\\AppData\\Roaming\\nltk_data...\n",
      "[nltk_data]   Package stopwords is already up-to-date!\n"
     ]
    }
   ],
   "source": [
    "### Remove Stop words \n",
    "nltk.download('stopwords')\n",
    "stop_words = stopwords.words(\"english\")\n",
    "stemmer = SnowballStemmer(\"english\")\n",
    "tweets['mtext'] = tweets.text.apply(lambda x: preprocess(x))"
   ]
  },
  {
   "cell_type": "markdown",
   "metadata": {},
   "source": [
    "### Derive Attributes"
   ]
  },
  {
   "cell_type": "code",
   "execution_count": 12,
   "metadata": {},
   "outputs": [],
   "source": [
    "### Identify URL's\n",
    "def extractURL(text):\n",
    "    urlstr = \"\"\n",
    "    try:\n",
    "        urlstr = re.search(\"(?P<url>https?://[^\\s]+)\", str(text)).group(\"url\")\n",
    "    except:\n",
    "        urlstr = \"\"\n",
    "    return urlstr"
   ]
  },
  {
   "cell_type": "code",
   "execution_count": 13,
   "metadata": {},
   "outputs": [],
   "source": [
    "### Identify Entities's\n",
    "def extractEntities(text):\n",
    "    entities = \"\"\n",
    "    try:\n",
    "        entities = re.findall(r\"@(\\w+)\", text)\n",
    "    except:\n",
    "        entities = \"\"\n",
    "    return entities"
   ]
  },
  {
   "cell_type": "code",
   "execution_count": 14,
   "metadata": {},
   "outputs": [],
   "source": [
    "### Extracting URL's from Tweet.\n",
    "tweets['urls'] = tweets.text.apply(lambda x: extractURL(x))"
   ]
  },
  {
   "cell_type": "code",
   "execution_count": 15,
   "metadata": {},
   "outputs": [],
   "source": [
    "### Identify valid URL and invalid URLs\n",
    "def inValidURL(text):\n",
    "    urlInValid = 0\n",
    "    if text.startswith('http://'):\n",
    "        urlInValid=1\n",
    "    return urlInValid"
   ]
  },
  {
   "cell_type": "code",
   "execution_count": 16,
   "metadata": {},
   "outputs": [],
   "source": [
    "tweets['inValidUrl'] = tweets.urls.apply(lambda x: inValidURL(x))"
   ]
  },
  {
   "cell_type": "code",
   "execution_count": 17,
   "metadata": {},
   "outputs": [
    {
     "data": {
      "text/plain": [
       "0    1922\n",
       "1      78\n",
       "Name: inValidUrl, dtype: int64"
      ]
     },
     "execution_count": 17,
     "metadata": {},
     "output_type": "execute_result"
    }
   ],
   "source": [
    "tweets['inValidUrl'].value_counts()"
   ]
  },
  {
   "cell_type": "code",
   "execution_count": 18,
   "metadata": {},
   "outputs": [],
   "source": [
    "tweets['Parties'] = tweets.text.apply(lambda x: extractEntities(x))"
   ]
  },
  {
   "cell_type": "code",
   "execution_count": 19,
   "metadata": {},
   "outputs": [],
   "source": [
    "### Identify Tweet Length \n",
    "tweets['TLen'] = tweets.mtext.str.len()"
   ]
  },
  {
   "cell_type": "code",
   "execution_count": 20,
   "metadata": {},
   "outputs": [],
   "source": [
    "### Date Time conversion \n",
    "def parseDate(text):\n",
    "    return parse(text)\n",
    "\n",
    "def getDayOfWeek(text):\n",
    "    weekday = pd.Timestamp(text).weekday()\n",
    "    wday=\"\"\n",
    "    if weekday == 0:\n",
    "        wday = \"Monday\"\n",
    "    elif weekday == 1:\n",
    "        wday = \"Tuesday\"\n",
    "    elif weekday == 2:\n",
    "        wday = \"Wednesday\"\n",
    "    elif weekday == 3:\n",
    "        wday = \"Thursday\"\n",
    "    elif weekday == 4:\n",
    "        wday = \"Friday\"\n",
    "    elif weekday == 5:\n",
    "        wday = \"Saturday\"\n",
    "    elif weekday == 6:\n",
    "        wday = \"Sunday\"\n",
    "    else: \n",
    "        wday = \"\"\n",
    "    return wday\n",
    "\n",
    "def getTime(text):\n",
    "    return pd.Timestamp(text).time()\n",
    "\n",
    "def getMonth(text):\n",
    "    return pd.Timestamp(text).month_name()\n"
   ]
  },
  {
   "cell_type": "code",
   "execution_count": 21,
   "metadata": {},
   "outputs": [],
   "source": [
    "decode_map = {0: \"NEGATIVE\", 2: \"NEUTRAL\", 4: \"POSITIVE\"}\n",
    "def decode_sentiment(label):\n",
    "    return decode_map[int(label)]"
   ]
  },
  {
   "cell_type": "code",
   "execution_count": 22,
   "metadata": {},
   "outputs": [],
   "source": [
    "tweets.target = tweets.target.apply(lambda x: decode_sentiment(x))"
   ]
  },
  {
   "cell_type": "code",
   "execution_count": 23,
   "metadata": {},
   "outputs": [
    {
     "data": {
      "text/html": [
       "<div>\n",
       "<style scoped>\n",
       "    .dataframe tbody tr th:only-of-type {\n",
       "        vertical-align: middle;\n",
       "    }\n",
       "\n",
       "    .dataframe tbody tr th {\n",
       "        vertical-align: top;\n",
       "    }\n",
       "\n",
       "    .dataframe thead th {\n",
       "        text-align: right;\n",
       "    }\n",
       "</style>\n",
       "<table border=\"1\" class=\"dataframe\">\n",
       "  <thead>\n",
       "    <tr style=\"text-align: right;\">\n",
       "      <th></th>\n",
       "      <th>target</th>\n",
       "      <th>ids</th>\n",
       "      <th>date</th>\n",
       "      <th>query</th>\n",
       "      <th>user</th>\n",
       "      <th>text</th>\n",
       "      <th>mtext</th>\n",
       "      <th>urls</th>\n",
       "      <th>inValidUrl</th>\n",
       "      <th>Parties</th>\n",
       "      <th>TLen</th>\n",
       "    </tr>\n",
       "  </thead>\n",
       "  <tbody>\n",
       "    <tr>\n",
       "      <th>800000</th>\n",
       "      <td>POSITIVE</td>\n",
       "      <td>1467822272</td>\n",
       "      <td>Mon Apr 06 22:22:45 PDT 2009</td>\n",
       "      <td>NO_QUERY</td>\n",
       "      <td>ersle</td>\n",
       "      <td>I LOVE @Health4UandPets u guys r the best!!</td>\n",
       "      <td>love health4uandpets u guys r best</td>\n",
       "      <td></td>\n",
       "      <td>0</td>\n",
       "      <td>[Health4UandPets]</td>\n",
       "      <td>34</td>\n",
       "    </tr>\n",
       "    <tr>\n",
       "      <th>800001</th>\n",
       "      <td>POSITIVE</td>\n",
       "      <td>1467822273</td>\n",
       "      <td>Mon Apr 06 22:22:45 PDT 2009</td>\n",
       "      <td>NO_QUERY</td>\n",
       "      <td>becca210</td>\n",
       "      <td>im meeting up with one of my besties tonight! ...</td>\n",
       "      <td>im meeting one besties tonight cant wait girl ...</td>\n",
       "      <td></td>\n",
       "      <td>0</td>\n",
       "      <td>[]</td>\n",
       "      <td>50</td>\n",
       "    </tr>\n",
       "    <tr>\n",
       "      <th>800002</th>\n",
       "      <td>POSITIVE</td>\n",
       "      <td>1467822283</td>\n",
       "      <td>Mon Apr 06 22:22:46 PDT 2009</td>\n",
       "      <td>NO_QUERY</td>\n",
       "      <td>Wingman29</td>\n",
       "      <td>@DaRealSunisaKim Thanks for the Twitter add, S...</td>\n",
       "      <td>thanks twitter add sunisa got meet hin show dc...</td>\n",
       "      <td></td>\n",
       "      <td>0</td>\n",
       "      <td>[DaRealSunisaKim]</td>\n",
       "      <td>62</td>\n",
       "    </tr>\n",
       "    <tr>\n",
       "      <th>800003</th>\n",
       "      <td>POSITIVE</td>\n",
       "      <td>1467822287</td>\n",
       "      <td>Mon Apr 06 22:22:46 PDT 2009</td>\n",
       "      <td>NO_QUERY</td>\n",
       "      <td>katarinka</td>\n",
       "      <td>Being sick can be really cheap when it hurts t...</td>\n",
       "      <td>sick really cheap hurts much eat real food plu...</td>\n",
       "      <td></td>\n",
       "      <td>0</td>\n",
       "      <td>[]</td>\n",
       "      <td>65</td>\n",
       "    </tr>\n",
       "    <tr>\n",
       "      <th>800004</th>\n",
       "      <td>POSITIVE</td>\n",
       "      <td>1467822293</td>\n",
       "      <td>Mon Apr 06 22:22:46 PDT 2009</td>\n",
       "      <td>NO_QUERY</td>\n",
       "      <td>_EmilyYoung</td>\n",
       "      <td>@LovesBrooklyn2 he has that effect on everyone</td>\n",
       "      <td>effect everyone</td>\n",
       "      <td></td>\n",
       "      <td>0</td>\n",
       "      <td>[LovesBrooklyn2]</td>\n",
       "      <td>15</td>\n",
       "    </tr>\n",
       "  </tbody>\n",
       "</table>\n",
       "</div>"
      ],
      "text/plain": [
       "          target         ids                          date     query  \\\n",
       "800000  POSITIVE  1467822272  Mon Apr 06 22:22:45 PDT 2009  NO_QUERY   \n",
       "800001  POSITIVE  1467822273  Mon Apr 06 22:22:45 PDT 2009  NO_QUERY   \n",
       "800002  POSITIVE  1467822283  Mon Apr 06 22:22:46 PDT 2009  NO_QUERY   \n",
       "800003  POSITIVE  1467822287  Mon Apr 06 22:22:46 PDT 2009  NO_QUERY   \n",
       "800004  POSITIVE  1467822293  Mon Apr 06 22:22:46 PDT 2009  NO_QUERY   \n",
       "\n",
       "               user                                               text  \\\n",
       "800000        ersle       I LOVE @Health4UandPets u guys r the best!!    \n",
       "800001     becca210  im meeting up with one of my besties tonight! ...   \n",
       "800002    Wingman29  @DaRealSunisaKim Thanks for the Twitter add, S...   \n",
       "800003    katarinka  Being sick can be really cheap when it hurts t...   \n",
       "800004  _EmilyYoung    @LovesBrooklyn2 he has that effect on everyone    \n",
       "\n",
       "                                                    mtext urls  inValidUrl  \\\n",
       "800000                 love health4uandpets u guys r best                0   \n",
       "800001  im meeting one besties tonight cant wait girl ...                0   \n",
       "800002  thanks twitter add sunisa got meet hin show dc...                0   \n",
       "800003  sick really cheap hurts much eat real food plu...                0   \n",
       "800004                                    effect everyone                0   \n",
       "\n",
       "                  Parties  TLen  \n",
       "800000  [Health4UandPets]    34  \n",
       "800001                 []    50  \n",
       "800002  [DaRealSunisaKim]    62  \n",
       "800003                 []    65  \n",
       "800004   [LovesBrooklyn2]    15  "
      ]
     },
     "execution_count": 23,
     "metadata": {},
     "output_type": "execute_result"
    }
   ],
   "source": [
    "tweets.head()"
   ]
  },
  {
   "cell_type": "code",
   "execution_count": 24,
   "metadata": {},
   "outputs": [],
   "source": [
    "tweets['date'] = tweets.date.apply(lambda x: parseDate(str(x)))"
   ]
  },
  {
   "cell_type": "code",
   "execution_count": 25,
   "metadata": {},
   "outputs": [],
   "source": [
    "tweets['DayOfWeek'] = tweets.date.apply(lambda x: getDayOfWeek(x))\n",
    "tweets['TweetTime'] = tweets.date.apply(lambda x: getTime(x))\n",
    "tweets['MonthTweeted'] = tweets.date.apply(lambda x: getMonth(x))"
   ]
  },
  {
   "cell_type": "code",
   "execution_count": 26,
   "metadata": {},
   "outputs": [
    {
     "data": {
      "text/html": [
       "<div>\n",
       "<style scoped>\n",
       "    .dataframe tbody tr th:only-of-type {\n",
       "        vertical-align: middle;\n",
       "    }\n",
       "\n",
       "    .dataframe tbody tr th {\n",
       "        vertical-align: top;\n",
       "    }\n",
       "\n",
       "    .dataframe thead th {\n",
       "        text-align: right;\n",
       "    }\n",
       "</style>\n",
       "<table border=\"1\" class=\"dataframe\">\n",
       "  <thead>\n",
       "    <tr style=\"text-align: right;\">\n",
       "      <th></th>\n",
       "      <th>target</th>\n",
       "      <th>ids</th>\n",
       "      <th>date</th>\n",
       "      <th>query</th>\n",
       "      <th>user</th>\n",
       "      <th>text</th>\n",
       "      <th>mtext</th>\n",
       "      <th>urls</th>\n",
       "      <th>inValidUrl</th>\n",
       "      <th>Parties</th>\n",
       "      <th>TLen</th>\n",
       "      <th>DayOfWeek</th>\n",
       "      <th>TweetTime</th>\n",
       "      <th>MonthTweeted</th>\n",
       "    </tr>\n",
       "  </thead>\n",
       "  <tbody>\n",
       "    <tr>\n",
       "      <th>800000</th>\n",
       "      <td>POSITIVE</td>\n",
       "      <td>1467822272</td>\n",
       "      <td>2009-04-06 22:22:45</td>\n",
       "      <td>NO_QUERY</td>\n",
       "      <td>ersle</td>\n",
       "      <td>I LOVE @Health4UandPets u guys r the best!!</td>\n",
       "      <td>love health4uandpets u guys r best</td>\n",
       "      <td></td>\n",
       "      <td>0</td>\n",
       "      <td>[Health4UandPets]</td>\n",
       "      <td>34</td>\n",
       "      <td>Monday</td>\n",
       "      <td>22:22:45</td>\n",
       "      <td>April</td>\n",
       "    </tr>\n",
       "    <tr>\n",
       "      <th>800001</th>\n",
       "      <td>POSITIVE</td>\n",
       "      <td>1467822273</td>\n",
       "      <td>2009-04-06 22:22:45</td>\n",
       "      <td>NO_QUERY</td>\n",
       "      <td>becca210</td>\n",
       "      <td>im meeting up with one of my besties tonight! ...</td>\n",
       "      <td>im meeting one besties tonight cant wait girl ...</td>\n",
       "      <td></td>\n",
       "      <td>0</td>\n",
       "      <td>[]</td>\n",
       "      <td>50</td>\n",
       "      <td>Monday</td>\n",
       "      <td>22:22:45</td>\n",
       "      <td>April</td>\n",
       "    </tr>\n",
       "    <tr>\n",
       "      <th>800002</th>\n",
       "      <td>POSITIVE</td>\n",
       "      <td>1467822283</td>\n",
       "      <td>2009-04-06 22:22:46</td>\n",
       "      <td>NO_QUERY</td>\n",
       "      <td>Wingman29</td>\n",
       "      <td>@DaRealSunisaKim Thanks for the Twitter add, S...</td>\n",
       "      <td>thanks twitter add sunisa got meet hin show dc...</td>\n",
       "      <td></td>\n",
       "      <td>0</td>\n",
       "      <td>[DaRealSunisaKim]</td>\n",
       "      <td>62</td>\n",
       "      <td>Monday</td>\n",
       "      <td>22:22:46</td>\n",
       "      <td>April</td>\n",
       "    </tr>\n",
       "    <tr>\n",
       "      <th>800003</th>\n",
       "      <td>POSITIVE</td>\n",
       "      <td>1467822287</td>\n",
       "      <td>2009-04-06 22:22:46</td>\n",
       "      <td>NO_QUERY</td>\n",
       "      <td>katarinka</td>\n",
       "      <td>Being sick can be really cheap when it hurts t...</td>\n",
       "      <td>sick really cheap hurts much eat real food plu...</td>\n",
       "      <td></td>\n",
       "      <td>0</td>\n",
       "      <td>[]</td>\n",
       "      <td>65</td>\n",
       "      <td>Monday</td>\n",
       "      <td>22:22:46</td>\n",
       "      <td>April</td>\n",
       "    </tr>\n",
       "    <tr>\n",
       "      <th>800004</th>\n",
       "      <td>POSITIVE</td>\n",
       "      <td>1467822293</td>\n",
       "      <td>2009-04-06 22:22:46</td>\n",
       "      <td>NO_QUERY</td>\n",
       "      <td>_EmilyYoung</td>\n",
       "      <td>@LovesBrooklyn2 he has that effect on everyone</td>\n",
       "      <td>effect everyone</td>\n",
       "      <td></td>\n",
       "      <td>0</td>\n",
       "      <td>[LovesBrooklyn2]</td>\n",
       "      <td>15</td>\n",
       "      <td>Monday</td>\n",
       "      <td>22:22:46</td>\n",
       "      <td>April</td>\n",
       "    </tr>\n",
       "  </tbody>\n",
       "</table>\n",
       "</div>"
      ],
      "text/plain": [
       "          target         ids                date     query         user  \\\n",
       "800000  POSITIVE  1467822272 2009-04-06 22:22:45  NO_QUERY        ersle   \n",
       "800001  POSITIVE  1467822273 2009-04-06 22:22:45  NO_QUERY     becca210   \n",
       "800002  POSITIVE  1467822283 2009-04-06 22:22:46  NO_QUERY    Wingman29   \n",
       "800003  POSITIVE  1467822287 2009-04-06 22:22:46  NO_QUERY    katarinka   \n",
       "800004  POSITIVE  1467822293 2009-04-06 22:22:46  NO_QUERY  _EmilyYoung   \n",
       "\n",
       "                                                     text  \\\n",
       "800000       I LOVE @Health4UandPets u guys r the best!!    \n",
       "800001  im meeting up with one of my besties tonight! ...   \n",
       "800002  @DaRealSunisaKim Thanks for the Twitter add, S...   \n",
       "800003  Being sick can be really cheap when it hurts t...   \n",
       "800004    @LovesBrooklyn2 he has that effect on everyone    \n",
       "\n",
       "                                                    mtext urls  inValidUrl  \\\n",
       "800000                 love health4uandpets u guys r best                0   \n",
       "800001  im meeting one besties tonight cant wait girl ...                0   \n",
       "800002  thanks twitter add sunisa got meet hin show dc...                0   \n",
       "800003  sick really cheap hurts much eat real food plu...                0   \n",
       "800004                                    effect everyone                0   \n",
       "\n",
       "                  Parties  TLen DayOfWeek TweetTime MonthTweeted  \n",
       "800000  [Health4UandPets]    34    Monday  22:22:45        April  \n",
       "800001                 []    50    Monday  22:22:45        April  \n",
       "800002  [DaRealSunisaKim]    62    Monday  22:22:46        April  \n",
       "800003                 []    65    Monday  22:22:46        April  \n",
       "800004   [LovesBrooklyn2]    15    Monday  22:22:46        April  "
      ]
     },
     "execution_count": 26,
     "metadata": {},
     "output_type": "execute_result"
    }
   ],
   "source": [
    "tweets.head(5)"
   ]
  },
  {
   "cell_type": "code",
   "execution_count": 27,
   "metadata": {},
   "outputs": [],
   "source": [
    "### tweetsP is for data analysis\n",
    "\n",
    "tweetsP = tweets\n",
    "tweetsP['inValidUrl'] = tweetsP['inValidUrl'].map({1: 'InvalidUrl', 0 : 'ValidUrl'})\n"
   ]
  },
  {
   "cell_type": "markdown",
   "metadata": {},
   "source": [
    "### POS Tagging"
   ]
  },
  {
   "cell_type": "code",
   "execution_count": 28,
   "metadata": {},
   "outputs": [],
   "source": [
    "tweets['POS_TAGS'] = tweets.mtext.apply(lambda x: nltk.pos_tag(x))"
   ]
  },
  {
   "cell_type": "code",
   "execution_count": 29,
   "metadata": {},
   "outputs": [
    {
     "data": {
      "text/html": [
       "<div>\n",
       "<style scoped>\n",
       "    .dataframe tbody tr th:only-of-type {\n",
       "        vertical-align: middle;\n",
       "    }\n",
       "\n",
       "    .dataframe tbody tr th {\n",
       "        vertical-align: top;\n",
       "    }\n",
       "\n",
       "    .dataframe thead th {\n",
       "        text-align: right;\n",
       "    }\n",
       "</style>\n",
       "<table border=\"1\" class=\"dataframe\">\n",
       "  <thead>\n",
       "    <tr style=\"text-align: right;\">\n",
       "      <th></th>\n",
       "      <th>target</th>\n",
       "      <th>ids</th>\n",
       "      <th>date</th>\n",
       "      <th>query</th>\n",
       "      <th>user</th>\n",
       "      <th>text</th>\n",
       "      <th>mtext</th>\n",
       "      <th>urls</th>\n",
       "      <th>inValidUrl</th>\n",
       "      <th>Parties</th>\n",
       "      <th>TLen</th>\n",
       "      <th>DayOfWeek</th>\n",
       "      <th>TweetTime</th>\n",
       "      <th>MonthTweeted</th>\n",
       "      <th>POS_TAGS</th>\n",
       "    </tr>\n",
       "  </thead>\n",
       "  <tbody>\n",
       "    <tr>\n",
       "      <th>800000</th>\n",
       "      <td>POSITIVE</td>\n",
       "      <td>1467822272</td>\n",
       "      <td>2009-04-06 22:22:45</td>\n",
       "      <td>NO_QUERY</td>\n",
       "      <td>ersle</td>\n",
       "      <td>I LOVE @Health4UandPets u guys r the best!!</td>\n",
       "      <td>love health4uandpets u guys r best</td>\n",
       "      <td></td>\n",
       "      <td>ValidUrl</td>\n",
       "      <td>[Health4UandPets]</td>\n",
       "      <td>34</td>\n",
       "      <td>Monday</td>\n",
       "      <td>22:22:45</td>\n",
       "      <td>April</td>\n",
       "      <td>[(l, NN), (o, MD), (v, VB), (e, NN), ( , NNP),...</td>\n",
       "    </tr>\n",
       "  </tbody>\n",
       "</table>\n",
       "</div>"
      ],
      "text/plain": [
       "          target         ids                date     query   user  \\\n",
       "800000  POSITIVE  1467822272 2009-04-06 22:22:45  NO_QUERY  ersle   \n",
       "\n",
       "                                                text  \\\n",
       "800000  I LOVE @Health4UandPets u guys r the best!!    \n",
       "\n",
       "                                     mtext urls inValidUrl            Parties  \\\n",
       "800000  love health4uandpets u guys r best        ValidUrl  [Health4UandPets]   \n",
       "\n",
       "        TLen DayOfWeek TweetTime MonthTweeted  \\\n",
       "800000    34    Monday  22:22:45        April   \n",
       "\n",
       "                                                 POS_TAGS  \n",
       "800000  [(l, NN), (o, MD), (v, VB), (e, NN), ( , NNP),...  "
      ]
     },
     "execution_count": 29,
     "metadata": {},
     "output_type": "execute_result"
    }
   ],
   "source": [
    "tweets.head(1)"
   ]
  },
  {
   "cell_type": "markdown",
   "metadata": {},
   "source": [
    "### Data Analysis\n",
    "### Univariate Analyis"
   ]
  },
  {
   "cell_type": "code",
   "execution_count": 30,
   "metadata": {},
   "outputs": [
    {
     "data": {
      "image/png": "[encoded data removed]",
      "text/plain": [
       "<Figure size 432x288 with 1 Axes>"
      ]
     },
     "metadata": {
      "needs_background": "light"
     },
     "output_type": "display_data"
    }
   ],
   "source": [
    "# boxplot\n",
    "sns.boxplot(tweetsP['TLen'])\n",
    "plt.title('Tweet Length')\n",
    "plt.show()"
   ]
  },
  {
   "cell_type": "code",
   "execution_count": 31,
   "metadata": {},
   "outputs": [
    {
     "data": {
      "text/plain": [
       "<matplotlib.axes._subplots.AxesSubplot at 0x19c0d98c748>"
      ]
     },
     "execution_count": 31,
     "metadata": {},
     "output_type": "execute_result"
    },
    {
     "data": {
      "image/png": "[encoded data removed]",
      "text/plain": [
       "<Figure size 432x288 with 1 Axes>"
      ]
     },
     "metadata": {
      "needs_background": "light"
     },
     "output_type": "display_data"
    }
   ],
   "source": [
    "# Lets see the trend on Positive and Negative in Twitter dataset. \n",
    "tweetsP['target'].value_counts().plot(kind = 'bar',title = 'Positive, Negative and Neutral Data Distribution')"
   ]
  },
  {
   "cell_type": "markdown",
   "metadata": {},
   "source": [
    "### Bivariate Analysis"
   ]
  },
  {
   "cell_type": "code",
   "execution_count": 32,
   "metadata": {},
   "outputs": [
    {
     "data": {
      "image/png": "[encoded data removed]",
      "text/plain": [
       "<Figure size 720x432 with 1 Axes>"
      ]
     },
     "metadata": {
      "needs_background": "light"
     },
     "output_type": "display_data"
    }
   ],
   "source": [
    "plt.figure(figsize=(10, 6))\n",
    "sns.countplot(x=\"target\", data=tweetsP,hue=\"inValidUrl\")\n",
    "plt.show()"
   ]
  },
  {
   "cell_type": "code",
   "execution_count": 33,
   "metadata": {},
   "outputs": [],
   "source": [
    "# creating a time slot for various time period of day\n",
    "def time_period(x):\n",
    "    hours, minutes, Sec = str(x).split(\":\")\n",
    "    'divide the time of the day into four categories'\n",
    "    if int(hours) < 5:\n",
    "        return \"Early Morning\"\n",
    "    elif 5 <= int(hours) < 10:\n",
    "        return \"Morning\"\n",
    "    elif 10 <= int(hours) < 17:\n",
    "        return \"Day_Time\"\n",
    "    elif 17 <= int(hours) < 22:\n",
    "        return \"Evening_Rush\"\n",
    "    else:\n",
    "        return \"Late_Night\"\n",
    "\n"
   ]
  },
  {
   "cell_type": "code",
   "execution_count": 34,
   "metadata": {},
   "outputs": [],
   "source": [
    "# Tweet time \n",
    "tweetsP['time_slot'] = tweetsP.TweetTime.apply(lambda x: time_period(x))"
   ]
  },
  {
   "cell_type": "code",
   "execution_count": 35,
   "metadata": {},
   "outputs": [],
   "source": [
    "# Let's create pie charts instead of a count plots\n",
    "def pie_chart(dataframe, label):\n",
    "    \"\"\"\n",
    "    creates a pie chart\n",
    "    input: dataframe with a 'category' as index and a numerical column\n",
    "    output: pie chart\n",
    "    \"\"\"\n",
    "    labels = dataframe.index.values\n",
    "    sizes = dataframe[label].values\n",
    "        \n",
    "    fig1, ax1 = plt.subplots()\n",
    "    ax1.pie(sizes, labels=labels, autopct='%1.1f%%', shadow=True, startangle=90)\n",
    "    ax1.axis('equal')  # Equal aspect ratio ensures that pie is drawn as a circle.\n",
    "    plt.show()"
   ]
  },
  {
   "cell_type": "code",
   "execution_count": 36,
   "metadata": {},
   "outputs": [
    {
     "data": {
      "text/html": [
       "<div>\n",
       "<style scoped>\n",
       "    .dataframe tbody tr th:only-of-type {\n",
       "        vertical-align: middle;\n",
       "    }\n",
       "\n",
       "    .dataframe tbody tr th {\n",
       "        vertical-align: top;\n",
       "    }\n",
       "\n",
       "    .dataframe thead th {\n",
       "        text-align: right;\n",
       "    }\n",
       "</style>\n",
       "<table border=\"1\" class=\"dataframe\">\n",
       "  <thead>\n",
       "    <tr style=\"text-align: right;\">\n",
       "      <th></th>\n",
       "      <th>time_slot</th>\n",
       "    </tr>\n",
       "  </thead>\n",
       "  <tbody>\n",
       "    <tr>\n",
       "      <th>Late_Night</th>\n",
       "      <td>2000</td>\n",
       "    </tr>\n",
       "  </tbody>\n",
       "</table>\n",
       "</div>"
      ],
      "text/plain": [
       "            time_slot\n",
       "Late_Night       2000"
      ]
     },
     "execution_count": 36,
     "metadata": {},
     "output_type": "execute_result"
    }
   ],
   "source": [
    "pd.DataFrame(tweetsP.time_slot.value_counts())"
   ]
  },
  {
   "cell_type": "code",
   "execution_count": 37,
   "metadata": {},
   "outputs": [
    {
     "data": {
      "image/png": "[encoded data removed]",
      "text/plain": [
       "<Figure size 432x288 with 1 Axes>"
      ]
     },
     "metadata": {},
     "output_type": "display_data"
    }
   ],
   "source": [
    "tweetsPT = pd.DataFrame(tweetsP.time_slot.value_counts())\n",
    "pie_chart(tweetsPT, 'time_slot')"
   ]
  },
  {
   "cell_type": "code",
   "execution_count": 38,
   "metadata": {},
   "outputs": [
    {
     "data": {
      "image/png": "[encoded data removed]",
      "text/plain": [
       "<Figure size 432x288 with 1 Axes>"
      ]
     },
     "metadata": {},
     "output_type": "display_data"
    }
   ],
   "source": [
    "tweetsPT = pd.DataFrame(tweetsP.DayOfWeek.value_counts())\n",
    "pie_chart(tweetsPT, 'DayOfWeek')"
   ]
  },
  {
   "cell_type": "code",
   "execution_count": 39,
   "metadata": {},
   "outputs": [
    {
     "data": {
      "image/png": "[encoded data removed]",
      "text/plain": [
       "<Figure size 432x288 with 1 Axes>"
      ]
     },
     "metadata": {},
     "output_type": "display_data"
    }
   ],
   "source": [
    "tweetsPT = pd.DataFrame(tweetsP.MonthTweeted.value_counts())\n",
    "pie_chart(tweetsPT, 'MonthTweeted')"
   ]
  },
  {
   "cell_type": "markdown",
   "metadata": {},
   "source": [
    "### Spliting dataset"
   ]
  },
  {
   "cell_type": "code",
   "execution_count": 40,
   "metadata": {},
   "outputs": [],
   "source": [
    "## Splitting dataset into test and train \n",
    "df_train, df_test = train_test_split(tweets, test_size=0.30, random_state=42)"
   ]
  },
  {
   "cell_type": "code",
   "execution_count": 41,
   "metadata": {},
   "outputs": [
    {
     "name": "stdout",
     "output_type": "stream",
     "text": [
      "Tranining Dataset size -->(1400, 16)\n",
      "Test Dataset size -->(600, 16)\n"
     ]
    }
   ],
   "source": [
    "print(\"Tranining Dataset size -->\" + str(df_train.shape))\n",
    "print(\"Test Dataset size -->\" + str(df_test.shape))"
   ]
  },
  {
   "cell_type": "markdown",
   "metadata": {},
   "source": [
    "### Word Embedding"
   ]
  },
  {
   "cell_type": "code",
   "execution_count": 42,
   "metadata": {},
   "outputs": [
    {
     "name": "stderr",
     "output_type": "stream",
     "text": [
      "Using TensorFlow backend.\n"
     ]
    }
   ],
   "source": [
    "# Word2vec\n",
    "import gensim\n",
    "from keras.preprocessing.text import Tokenizer\n",
    "from pathlib import Path"
   ]
  },
  {
   "cell_type": "code",
   "execution_count": 43,
   "metadata": {},
   "outputs": [],
   "source": [
    "### Word2Vec\n",
    "\n",
    "w2v_model = gensim.models.word2vec.Word2Vec(size=W2V_SIZE, \n",
    "                                            window=W2V_WINDOW, \n",
    "                                            min_count=W2V_MIN_COUNT, \n",
    "                                            workers=8)"
   ]
  },
  {
   "cell_type": "code",
   "execution_count": 44,
   "metadata": {},
   "outputs": [
    {
     "name": "stdout",
     "output_type": "stream",
     "text": [
      "Vocab size 176\n"
     ]
    }
   ],
   "source": [
    "documents = [_text.split() for _text in df_train.mtext]\n",
    "w2v_model.build_vocab(documents)\n",
    "words = w2v_model.wv.vocab.keys()\n",
    "vocab_size = len(words)\n",
    "print(\"Vocab size\", vocab_size)"
   ]
  },
  {
   "cell_type": "code",
   "execution_count": 45,
   "metadata": {},
   "outputs": [
    {
     "data": {
      "text/plain": [
       "(71898, 318944)"
      ]
     },
     "execution_count": 45,
     "metadata": {},
     "output_type": "execute_result"
    }
   ],
   "source": [
    "w2v_model.train(documents, total_examples=len(documents), epochs=W2V_EPOCH)"
   ]
  },
  {
   "cell_type": "code",
   "execution_count": 46,
   "metadata": {},
   "outputs": [
    {
     "data": {
      "text/plain": [
       "[('know', 0.9998518228530884),\n",
       " ('omg', 0.9998501539230347),\n",
       " ('haha', 0.9998480677604675),\n",
       " ('missed', 0.999846339225769),\n",
       " ('watch', 0.9998397827148438),\n",
       " ('well', 0.9998396635055542),\n",
       " ('wow', 0.9998396635055542),\n",
       " ('would', 0.9998387098312378),\n",
       " ('amp', 0.9998354911804199),\n",
       " ('people', 0.9998340606689453)]"
      ]
     },
     "execution_count": 46,
     "metadata": {},
     "output_type": "execute_result"
    }
   ],
   "source": [
    "w2v_model.most_similar(\"love\")"
   ]
  },
  {
   "cell_type": "code",
   "execution_count": 47,
   "metadata": {},
   "outputs": [
    {
     "name": "stdout",
     "output_type": "stream",
     "text": [
      "Total words -->  3703\n"
     ]
    }
   ],
   "source": [
    "tokenizer = Tokenizer()\n",
    "tokenizer.fit_on_texts(df_train.mtext)\n",
    "vocab_size = len(tokenizer.word_index) + 1\n",
    "print(\"Total words --> \", vocab_size)"
   ]
  },
  {
   "cell_type": "code",
   "execution_count": 48,
   "metadata": {},
   "outputs": [
    {
     "name": "stdout",
     "output_type": "stream",
     "text": [
      "(3703, 300)\n"
     ]
    }
   ],
   "source": [
    "matrix_wv = np.zeros((vocab_size, W2V_SIZE))\n",
    "for word, i in tokenizer.word_index.items():\n",
    "  if word in w2v_model.wv:\n",
    "    matrix_wv[i] = w2v_model.wv[word]\n",
    "print(matrix_wv.shape)"
   ]
  },
  {
   "cell_type": "code",
   "execution_count": 49,
   "metadata": {},
   "outputs": [],
   "source": [
    "### Glove \n",
    "\n",
    "root = Path('../')\n",
    "input_path = root / 'input/'\n",
    "ouput_path = root / 'output/'\n",
    "source_path = root / 'source/'\n",
    "\n",
    "glove_file = 'glove.twitter.27B.100d.txt'\n",
    "emb_dict = {}\n",
    "glove = open(glove_file, encoding=\"utf8\")\n",
    "for line in glove:\n",
    "    values = line.split()\n",
    "    word = values[0]\n",
    "    vector = np.asarray(values[1:], dtype='float32')\n",
    "    emb_dict[word] = vector\n",
    "glove.close()"
   ]
  },
  {
   "cell_type": "code",
   "execution_count": 50,
   "metadata": {},
   "outputs": [
    {
     "name": "stdout",
     "output_type": "stream",
     "text": [
      "Total 1193514 word vectors.\n"
     ]
    }
   ],
   "source": [
    "NB_WORDS = len(emb_dict)+1  \n",
    "GLOVE_DIM = 100\n",
    "\n",
    "print('Total %s word vectors.' % len(emb_dict))"
   ]
  },
  {
   "cell_type": "code",
   "execution_count": 51,
   "metadata": {},
   "outputs": [
    {
     "name": "stdout",
     "output_type": "stream",
     "text": [
      "(1193515, 100)\n"
     ]
    }
   ],
   "source": [
    "matrix_gv = np.zeros((NB_WORDS, GLOVE_DIM))\n",
    "for word, i in tokenizer.word_index.items():\n",
    "    if i < NB_WORDS:\n",
    "        vect = emb_dict.get(word)\n",
    "        if vect is not None:\n",
    "            matrix_gv[i] = vect\n",
    "    else:\n",
    "        break\n",
    "print(matrix_gv.shape)"
   ]
  },
  {
   "cell_type": "markdown",
   "metadata": {},
   "source": [
    "### Creating Embedding layer"
   ]
  },
  {
   "cell_type": "code",
   "execution_count": 52,
   "metadata": {},
   "outputs": [],
   "source": [
    "from keras.layers import Embedding"
   ]
  },
  {
   "cell_type": "code",
   "execution_count": 53,
   "metadata": {},
   "outputs": [],
   "source": [
    "### Word To Vector Embedding Layer\n",
    "wv_embedding_layer = Embedding(vocab_size, W2V_SIZE, weights=[matrix_wv], input_length=SEQUENCE_LENGTH, trainable=False)"
   ]
  },
  {
   "cell_type": "code",
   "execution_count": 54,
   "metadata": {},
   "outputs": [],
   "source": [
    "### Glove Embedding Layer\n",
    "gv_embedding_layer = Embedding(NB_WORDS, 100, weights=[matrix_gv], input_length=SEQUENCE_LENGTH, trainable=False)"
   ]
  },
  {
   "cell_type": "markdown",
   "metadata": {},
   "source": [
    "### Word Padding"
   ]
  },
  {
   "cell_type": "code",
   "execution_count": 55,
   "metadata": {},
   "outputs": [],
   "source": [
    "from keras.preprocessing.sequence import pad_sequences"
   ]
  },
  {
   "cell_type": "code",
   "execution_count": 56,
   "metadata": {},
   "outputs": [],
   "source": [
    "x_train_pd = pad_sequences(tokenizer.texts_to_sequences(df_train.mtext), maxlen=SEQUENCE_LENGTH)\n",
    "x_test_pd = pad_sequences(tokenizer.texts_to_sequences(df_test.mtext), maxlen=SEQUENCE_LENGTH)"
   ]
  },
  {
   "cell_type": "markdown",
   "metadata": {},
   "source": [
    "### Model Building"
   ]
  },
  {
   "cell_type": "markdown",
   "metadata": {},
   "source": [
    "##### Navie Bayes with TF-IDF"
   ]
  },
  {
   "cell_type": "code",
   "execution_count": 57,
   "metadata": {},
   "outputs": [],
   "source": [
    "from sklearn.pipeline import Pipeline\n",
    "from sklearn.naive_bayes import MultinomialNB\n",
    "from sklearn.feature_extraction.text import CountVectorizer, TfidfTransformer\n",
    "from sklearn.model_selection import train_test_split, GridSearchCV\n",
    "text_clf = Pipeline([('vect', CountVectorizer()),\n",
    "                     ('tfidf', TfidfTransformer()),\n",
    "                     ('clf', MultinomialNB())])\n",
    "tuned_parameters = {\n",
    "    'vect__ngram_range': [(1, 1), (1, 2), (2, 2)],\n",
    "    'tfidf__use_idf': (True, False),\n",
    "    'tfidf__norm': ('l1', 'l2'),\n",
    "    'clf__alpha': [1, 1e-1, 1e-2]\n",
    "}"
   ]
  },
  {
   "cell_type": "code",
   "execution_count": 58,
   "metadata": {},
   "outputs": [],
   "source": [
    "x_train = df_train.mtext\n",
    "y_train = df_train['target'].map({\"NEGATIVE\":1,\"NEUTRAL\":0,\"POSITIVE\":0})\n",
    "x_test = df_test.mtext\n",
    "y_test = df_test['target'].map({\"NEGATIVE\":1,\"NEUTRAL\":0,\"POSITIVE\":0 })"
   ]
  },
  {
   "cell_type": "code",
   "execution_count": 59,
   "metadata": {},
   "outputs": [
    {
     "name": "stdout",
     "output_type": "stream",
     "text": [
      "              precision    recall  f1-score   support\n",
      "\n",
      "           0     0.6745    0.6656    0.6700       302\n",
      "           1     0.6656    0.6745    0.6700       298\n",
      "\n",
      "    accuracy                         0.6700       600\n",
      "   macro avg     0.6700    0.6700    0.6700       600\n",
      "weighted avg     0.6701    0.6700    0.6700       600\n",
      "\n"
     ]
    }
   ],
   "source": [
    "from sklearn.metrics import classification_report\n",
    "clf = GridSearchCV(text_clf, tuned_parameters, cv=4, scoring='accuracy', n_jobs=-1)\n",
    "clf.fit(x_train, y_train)\n",
    "\n",
    "print(classification_report(y_test, clf.predict(x_test), digits=4))"
   ]
  },
  {
   "cell_type": "markdown",
   "metadata": {},
   "source": [
    "##### SVM with TF-IDF"
   ]
  },
  {
   "cell_type": "code",
   "execution_count": 60,
   "metadata": {},
   "outputs": [],
   "source": [
    "from sklearn.linear_model import SGDClassifier"
   ]
  },
  {
   "cell_type": "code",
   "execution_count": 61,
   "metadata": {},
   "outputs": [],
   "source": [
    "text_clf = Pipeline([('vect', CountVectorizer()),\n",
    "                     ('tfidf', TfidfTransformer()),\n",
    "                     ('clf', SGDClassifier(loss='hinge', penalty='l2',alpha=1e-3, random_state=42, max_iter=5, tol=None))])\n",
    "tuned_parameters = {\n",
    "    'vect__ngram_range': [(1, 1), (1, 2), (2, 2)],\n",
    "    'tfidf__use_idf': (True, False),\n",
    "    'tfidf__norm': ('l1', 'l2'),\n",
    "    'clf__alpha': [1, 1e-1, 1e-2]\n",
    "}"
   ]
  },
  {
   "cell_type": "code",
   "execution_count": 62,
   "metadata": {},
   "outputs": [
    {
     "name": "stdout",
     "output_type": "stream",
     "text": [
      "              precision    recall  f1-score   support\n",
      "\n",
      "           0     0.7462    0.3212    0.4491       302\n",
      "           1     0.5638    0.8893    0.6901       298\n",
      "\n",
      "    accuracy                         0.6033       600\n",
      "   macro avg     0.6550    0.6052    0.5696       600\n",
      "weighted avg     0.6556    0.6033    0.5688       600\n",
      "\n"
     ]
    }
   ],
   "source": [
    "clf = GridSearchCV(text_clf, tuned_parameters, cv=4, scoring='accuracy', n_jobs=-1)\n",
    "clf.fit(x_train, y_train)\n",
    "\n",
    "print(classification_report(y_test, clf.predict(x_test), digits=4))"
   ]
  },
  {
   "cell_type": "markdown",
   "metadata": {},
   "source": [
    "##### Logestic Regression with TF-IDF"
   ]
  },
  {
   "cell_type": "code",
   "execution_count": 63,
   "metadata": {},
   "outputs": [],
   "source": [
    "from sklearn.linear_model import LogisticRegression\n",
    "from keras.callbacks import ReduceLROnPlateau, EarlyStopping"
   ]
  },
  {
   "cell_type": "code",
   "execution_count": 64,
   "metadata": {},
   "outputs": [],
   "source": [
    "text_clf = Pipeline([('vect', CountVectorizer()),\n",
    "                     ('tfidf', TfidfTransformer()),\n",
    "                     ('clf', LogisticRegression(n_jobs=1, C=1e5))])\n",
    "tuned_parameters = {\n",
    "    'vect__ngram_range': [(1, 1), (1, 2), (2, 2)],\n",
    "    'tfidf__use_idf': (True, False),\n",
    "    'tfidf__norm': ('l1', 'l2')\n",
    "}"
   ]
  },
  {
   "cell_type": "code",
   "execution_count": 65,
   "metadata": {},
   "outputs": [],
   "source": [
    "#clf = GridSearchCV(text_clf, tuned_parameters, cv=4, scoring='accuracy', n_jobs=-1)\n",
    "#clf.fit(x_train, y_train)\n",
    "\n",
    "#print(classification_report(y_test, clf.predict(x_test), digits=4))"
   ]
  },
  {
   "cell_type": "markdown",
   "metadata": {},
   "source": [
    "## Neural Networks"
   ]
  },
  {
   "cell_type": "markdown",
   "metadata": {},
   "source": [
    "#### LSTM with Word2Vec"
   ]
  },
  {
   "cell_type": "code",
   "execution_count": 66,
   "metadata": {},
   "outputs": [],
   "source": [
    "from keras.models import Sequential\n",
    "from keras.layers import Activation, Dense, Dropout, Flatten, Conv1D, MaxPooling1D, LSTM, Conv2D, MaxPooling2D\n",
    "from sklearn.preprocessing import LabelEncoder\n",
    "from sklearn.metrics import confusion_matrix, accuracy_score\n",
    "import itertools"
   ]
  },
  {
   "cell_type": "code",
   "execution_count": 67,
   "metadata": {},
   "outputs": [],
   "source": [
    "#encoder = LabelEncoder()\n",
    "#encoder.fit(df_train.target.tolist())\n",
    "\n",
    "#y_train = encoder.transform(df_train.target.tolist())\n",
    "#y_test = encoder.transform(df_test.target.tolist())\n",
    "\n",
    "#y_train = y_train.reshape(-1,1)\n",
    "#y_test = y_test.reshape(-1,1)\n",
    "\n",
    "#print(\"y_train\",y_train.shape)\n",
    "#print(\"y_test\",y_test.shape)\n",
    "y_train = df_train['target'].map({\"NEGATIVE\":1,\"NEUTRAL\":0,\"POSITIVE\":0})\n",
    "y_test = df_test['target'].map({\"NEGATIVE\":1,\"NEUTRAL\":0,\"POSITIVE\":0 })"
   ]
  },
  {
   "cell_type": "code",
   "execution_count": 68,
   "metadata": {},
   "outputs": [
    {
     "name": "stdout",
     "output_type": "stream",
     "text": [
      "WARNING:tensorflow:From E:\\ProgramFiles\\Anaconda\\lib\\site-packages\\tensorflow\\python\\ops\\resource_variable_ops.py:435: colocate_with (from tensorflow.python.framework.ops) is deprecated and will be removed in a future version.\n",
      "Instructions for updating:\n",
      "Colocations handled automatically by placer.\n",
      "Model: \"sequential_1\"\n",
      "_________________________________________________________________\n",
      "Layer (type)                 Output Shape              Param #   \n",
      "=================================================================\n",
      "embedding_1 (Embedding)      (None, 300, 300)          1110900   \n",
      "_________________________________________________________________\n",
      "dropout_1 (Dropout)          (None, 300, 300)          0         \n",
      "_________________________________________________________________\n",
      "lstm_1 (LSTM)                (None, 100)               160400    \n",
      "_________________________________________________________________\n",
      "dense_1 (Dense)              (None, 1)                 101       \n",
      "=================================================================\n",
      "Total params: 1,271,401\n",
      "Trainable params: 160,501\n",
      "Non-trainable params: 1,110,900\n",
      "_________________________________________________________________\n"
     ]
    }
   ],
   "source": [
    "model = Sequential()\n",
    "model.add(wv_embedding_layer)\n",
    "model.add(Dropout(0.5))\n",
    "model.add(LSTM(100, dropout=0.2, recurrent_dropout=0.2))\n",
    "model.add(Dense(1, activation='sigmoid'))\n",
    "\n",
    "model.summary()"
   ]
  },
  {
   "cell_type": "code",
   "execution_count": 69,
   "metadata": {},
   "outputs": [],
   "source": [
    "model.compile(loss='binary_crossentropy',\n",
    "              optimizer=\"adam\",\n",
    "              metrics=['accuracy'])"
   ]
  },
  {
   "cell_type": "code",
   "execution_count": 70,
   "metadata": {},
   "outputs": [],
   "source": [
    "callbacks = [ ReduceLROnPlateau(monitor='val_loss', patience=5, cooldown=0),\n",
    "              EarlyStopping(monitor='val_acc', min_delta=1e-4, patience=5)]"
   ]
  },
  {
   "cell_type": "code",
   "execution_count": 71,
   "metadata": {},
   "outputs": [
    {
     "name": "stdout",
     "output_type": "stream",
     "text": [
      "WARNING:tensorflow:From E:\\ProgramFiles\\Anaconda\\lib\\site-packages\\tensorflow\\python\\ops\\math_ops.py:3066: to_int32 (from tensorflow.python.ops.math_ops) is deprecated and will be removed in a future version.\n",
      "Instructions for updating:\n",
      "Use tf.cast instead.\n",
      "Train on 1260 samples, validate on 140 samples\n",
      "Epoch 1/8\n",
      "1260/1260 [==============================] - 19s 15ms/step - loss: 0.6933 - accuracy: 0.5119 - val_loss: 0.6927 - val_accuracy: 0.5643\n",
      "Epoch 2/8\n",
      "1260/1260 [==============================] - 18s 15ms/step - loss: 0.6934 - accuracy: 0.4952 - val_loss: 0.6921 - val_accuracy: 0.5143\n",
      "Epoch 3/8\n",
      "1260/1260 [==============================] - 18s 15ms/step - loss: 0.6931 - accuracy: 0.5008 - val_loss: 0.6920 - val_accuracy: 0.5143\n",
      "Epoch 4/8\n",
      "1260/1260 [==============================] - 18s 14ms/step - loss: 0.6949 - accuracy: 0.4992 - val_loss: 0.6920 - val_accuracy: 0.5143\n",
      "Epoch 5/8\n",
      "1260/1260 [==============================] - 17s 13ms/step - loss: 0.6946 - accuracy: 0.5032 - val_loss: 0.6922 - val_accuracy: 0.5071\n",
      "Epoch 6/8\n",
      "1260/1260 [==============================] - 18s 14ms/step - loss: 0.6936 - accuracy: 0.5032 - val_loss: 0.6928 - val_accuracy: 0.5143\n",
      "Epoch 7/8\n",
      "1260/1260 [==============================] - 18s 14ms/step - loss: 0.6936 - accuracy: 0.5024 - val_loss: 0.6941 - val_accuracy: 0.4357\n",
      "Epoch 8/8\n",
      "1260/1260 [==============================] - 17s 13ms/step - loss: 0.6938 - accuracy: 0.4857 - val_loss: 0.6942 - val_accuracy: 0.4429\n"
     ]
    }
   ],
   "source": [
    "history = model.fit(x_train_pd, y_train,\n",
    "                    batch_size=BATCH_SIZE,\n",
    "                    epochs=EPOCHS,\n",
    "                    validation_split=0.1,\n",
    "                    verbose=1,\n",
    "                    callbacks=callbacks)"
   ]
  },
  {
   "cell_type": "code",
   "execution_count": 72,
   "metadata": {},
   "outputs": [
    {
     "name": "stdout",
     "output_type": "stream",
     "text": [
      "600/600 [==============================] - 2s 4ms/step\n",
      "\n",
      "ACCURACY: 0.49166667461395264\n",
      "LOSS: 0.6940184235572815\n"
     ]
    }
   ],
   "source": [
    "score = model.evaluate(x_test_pd, y_test, batch_size=BATCH_SIZE)\n",
    "print()\n",
    "print(\"ACCURACY:\",score[1])\n",
    "print(\"LOSS:\",score[0])"
   ]
  },
  {
   "cell_type": "code",
   "execution_count": 73,
   "metadata": {},
   "outputs": [
    {
     "data": {
      "image/png": "[encoded data removed]",
      "text/plain": [
       "<Figure size 432x288 with 1 Axes>"
      ]
     },
     "metadata": {
      "needs_background": "light"
     },
     "output_type": "display_data"
    },
    {
     "data": {
      "image/png": "[encoded data removed]",
      "text/plain": [
       "<Figure size 432x288 with 1 Axes>"
      ]
     },
     "metadata": {
      "needs_background": "light"
     },
     "output_type": "display_data"
    }
   ],
   "source": [
    "acc = history.history['accuracy']\n",
    "val_acc = history.history['val_accuracy']\n",
    "loss = history.history['loss']\n",
    "val_loss = history.history['val_loss']\n",
    " \n",
    "epochs = range(len(acc))\n",
    " \n",
    "plt.plot(epochs, acc, 'b', label='Training acc')\n",
    "plt.plot(epochs, val_acc, 'r', label='Validation acc')\n",
    "plt.title('Training and validation accuracy')\n",
    "plt.legend()\n",
    " \n",
    "plt.figure()\n",
    " \n",
    "plt.plot(epochs, loss, 'b', label='Training loss')\n",
    "plt.plot(epochs, val_loss, 'r', label='Validation loss')\n",
    "plt.title('Training and validation loss')\n",
    "plt.legend()\n",
    " \n",
    "plt.show()"
   ]
  },
  {
   "cell_type": "code",
   "execution_count": 74,
   "metadata": {},
   "outputs": [],
   "source": [
    "# Predict\n",
    "\n",
    "# SENTIMENT\n",
    "POSITIVE = 0\n",
    "NEGATIVE = 1\n",
    "NEUTRAL = 0\n",
    "SENTIMENT_THRESHOLDS = (0.4, 0.7)\n",
    "\n",
    "def decode_sentiment(score, include_neutral=True):\n",
    "    if include_neutral:        \n",
    "        label = NEUTRAL\n",
    "        if score <= SENTIMENT_THRESHOLDS[0]:\n",
    "            label =  POSITIVE\n",
    "        elif score >= SENTIMENT_THRESHOLDS[1]:\n",
    "            label = NEGATIVE\n",
    "\n",
    "        return label\n",
    "    else:\n",
    "        return NEGATIVE if score > 0.5 else POSITIVE"
   ]
  },
  {
   "cell_type": "code",
   "execution_count": 75,
   "metadata": {},
   "outputs": [],
   "source": [
    "def predict(text, include_neutral=True):\n",
    "    start_at = time.time()\n",
    "    # Tokenize text\n",
    "    x_test = pad_sequences(tokenizer.texts_to_sequences([text]), maxlen=SEQUENCE_LENGTH)\n",
    "    # Predict\n",
    "    score = model.predict([x_test])[0]\n",
    "    # Decode sentiment\n",
    "    label = decode_sentiment(score, include_neutral=include_neutral)\n",
    "\n",
    "    return {\"label\": label, \"score\": float(score),\n",
    "       \"elapsed_time\": time.time()-start_at}  "
   ]
  },
  {
   "cell_type": "code",
   "execution_count": 76,
   "metadata": {},
   "outputs": [
    {
     "name": "stdout",
     "output_type": "stream",
     "text": [
      "\r",
      "600/600 [==============================] - 3s 5ms/step\n"
     ]
    }
   ],
   "source": [
    "y_pred_1d = []\n",
    "y_test_1d = list(y_test)\n",
    "scores = model.predict(x_test_pd, verbose=1, batch_size=8000)\n",
    "y_pred_1d = [decode_sentiment(score, include_neutral=False) for score in scores]"
   ]
  },
  {
   "cell_type": "code",
   "execution_count": 77,
   "metadata": {},
   "outputs": [],
   "source": [
    "def plot_confusion_matrix(cm, classes,\n",
    "                          title='Confusion matrix',\n",
    "                          cmap=plt.cm.Blues):\n",
    "    \"\"\"\n",
    "    This function prints and plots the confusion matrix.\n",
    "    Normalization can be applied by setting `normalize=True`.\n",
    "    \"\"\"\n",
    "\n",
    "    cm = cm.astype('float') / cm.sum(axis=1)[:, np.newaxis]\n",
    "\n",
    "    plt.imshow(cm, interpolation='nearest', cmap=cmap)\n",
    "    plt.title(title, fontsize=30)\n",
    "    plt.colorbar()\n",
    "    tick_marks = np.arange(len(classes))\n",
    "    plt.xticks(tick_marks, classes, rotation=90, fontsize=22)\n",
    "    plt.yticks(tick_marks, classes, fontsize=22)\n",
    "\n",
    "    fmt = '.2f'\n",
    "    thresh = cm.max() / 2.\n",
    "    for i, j in itertools.product(range(cm.shape[0]), range(cm.shape[1])):\n",
    "        plt.text(j, i, format(cm[i, j], fmt),\n",
    "                 horizontalalignment=\"center\",\n",
    "                 color=\"white\" if cm[i, j] > thresh else \"black\")\n",
    "\n",
    "    plt.ylabel('True label', fontsize=25)\n",
    "    plt.xlabel('Predicted label', fontsize=25)"
   ]
  },
  {
   "cell_type": "code",
   "execution_count": 78,
   "metadata": {},
   "outputs": [
    {
     "data": {
      "image/png": "[encoded data removed]",
      "text/plain": [
       "<Figure size 864x864 with 2 Axes>"
      ]
     },
     "metadata": {
      "needs_background": "light"
     },
     "output_type": "display_data"
    }
   ],
   "source": [
    "cnf_matrix = confusion_matrix(y_test_1d, y_pred_1d)\n",
    "plt.figure(figsize=(12,12))\n",
    "plot_confusion_matrix(cnf_matrix, classes=y_test.unique(), title=\"Confusion matrix\")\n",
    "plt.show()"
   ]
  },
  {
   "cell_type": "code",
   "execution_count": 79,
   "metadata": {},
   "outputs": [
    {
     "name": "stdout",
     "output_type": "stream",
     "text": [
      "              precision    recall  f1-score   support\n",
      "\n",
      "           0       0.50      0.78      0.61       302\n",
      "           1       0.47      0.20      0.28       298\n",
      "\n",
      "    accuracy                           0.49       600\n",
      "   macro avg       0.48      0.49      0.44       600\n",
      "weighted avg       0.48      0.49      0.44       600\n",
      "\n"
     ]
    }
   ],
   "source": [
    "print(classification_report(y_test_1d, y_pred_1d))"
   ]
  },
  {
   "cell_type": "code",
   "execution_count": 80,
   "metadata": {},
   "outputs": [
    {
     "data": {
      "text/plain": [
       "0.49166666666666664"
      ]
     },
     "execution_count": 80,
     "metadata": {},
     "output_type": "execute_result"
    }
   ],
   "source": [
    "accuracy_score(y_test_1d, y_pred_1d)"
   ]
  },
  {
   "cell_type": "markdown",
   "metadata": {},
   "source": [
    "### 1D Convolution Layer"
   ]
  },
  {
   "cell_type": "code",
   "execution_count": 81,
   "metadata": {},
   "outputs": [
    {
     "name": "stdout",
     "output_type": "stream",
     "text": [
      "Model: \"sequential_2\"\n",
      "_________________________________________________________________\n",
      "Layer (type)                 Output Shape              Param #   \n",
      "=================================================================\n",
      "embedding_1 (Embedding)      (None, 300, 300)          1110900   \n",
      "_________________________________________________________________\n",
      "dropout_2 (Dropout)          (None, 300, 300)          0         \n",
      "_________________________________________________________________\n",
      "conv1d_1 (Conv1D)            (None, 298, 64)           57664     \n",
      "_________________________________________________________________\n",
      "dropout_3 (Dropout)          (None, 298, 64)           0         \n",
      "_________________________________________________________________\n",
      "max_pooling1d_1 (MaxPooling1 (None, 149, 64)           0         \n",
      "_________________________________________________________________\n",
      "flatten_1 (Flatten)          (None, 9536)              0         \n",
      "_________________________________________________________________\n",
      "dense_2 (Dense)              (None, 1)                 9537      \n",
      "=================================================================\n",
      "Total params: 1,178,101\n",
      "Trainable params: 67,201\n",
      "Non-trainable params: 1,110,900\n",
      "_________________________________________________________________\n"
     ]
    }
   ],
   "source": [
    "model = Sequential()\n",
    "model.add(wv_embedding_layer)\n",
    "model.add(Dropout(0.5))\n",
    "model.add(Conv1D(filters=64, kernel_size=3, activation='relu'))\n",
    "model.add(Dropout(0.5))\n",
    "model.add(MaxPooling1D(pool_size=2))\n",
    "model.add(Flatten())\n",
    "model.add(Dense(1, activation='sigmoid'))\n",
    "model.compile(loss='binary_crossentropy', optimizer='adam', metrics=['accuracy'])\n",
    "model.summary()"
   ]
  },
  {
   "cell_type": "code",
   "execution_count": 82,
   "metadata": {},
   "outputs": [
    {
     "name": "stdout",
     "output_type": "stream",
     "text": [
      "Train on 1260 samples, validate on 140 samples\n",
      "Epoch 1/8\n",
      "1260/1260 [==============================] - 9s 7ms/step - loss: 0.6937 - accuracy: 0.4881 - val_loss: 0.6930 - val_accuracy: 0.4929\n",
      "Epoch 2/8\n",
      "1260/1260 [==============================] - 8s 7ms/step - loss: 0.6928 - accuracy: 0.5405 - val_loss: 0.6927 - val_accuracy: 0.4929\n",
      "Epoch 3/8\n",
      "1260/1260 [==============================] - 8s 6ms/step - loss: 0.6929 - accuracy: 0.4944 - val_loss: 0.6923 - val_accuracy: 0.5286\n",
      "Epoch 4/8\n",
      "1260/1260 [==============================] - 8s 6ms/step - loss: 0.6922 - accuracy: 0.5286 - val_loss: 0.6919 - val_accuracy: 0.5214\n",
      "Epoch 5/8\n",
      "1260/1260 [==============================] - 8s 6ms/step - loss: 0.6921 - accuracy: 0.5095 - val_loss: 0.6915 - val_accuracy: 0.5071\n",
      "Epoch 6/8\n",
      "1260/1260 [==============================] - 8s 6ms/step - loss: 0.6922 - accuracy: 0.5032 - val_loss: 0.6911 - val_accuracy: 0.4929\n",
      "Epoch 7/8\n",
      "1260/1260 [==============================] - 8s 6ms/step - loss: 0.6919 - accuracy: 0.5159 - val_loss: 0.6907 - val_accuracy: 0.4786\n",
      "Epoch 8/8\n",
      "1260/1260 [==============================] - 8s 6ms/step - loss: 0.6919 - accuracy: 0.5206 - val_loss: 0.6902 - val_accuracy: 0.4786\n"
     ]
    }
   ],
   "source": [
    "history = model.fit(x_train_pd, y_train,\n",
    "                    batch_size=BATCH_SIZE,\n",
    "                    epochs=EPOCHS,\n",
    "                    validation_split=0.1,\n",
    "                    verbose=1,\n",
    "                    callbacks=callbacks)"
   ]
  },
  {
   "cell_type": "code",
   "execution_count": 83,
   "metadata": {},
   "outputs": [
    {
     "name": "stdout",
     "output_type": "stream",
     "text": [
      "\r",
      "600/600 [==============================] - 1s 2ms/step\n"
     ]
    }
   ],
   "source": [
    "y_pred_1d = []\n",
    "y_test_1d = list(y_test)\n",
    "scores = model.predict(x_test_pd, verbose=1, batch_size=8000)\n",
    "y_pred_1d = [decode_sentiment(score, include_neutral=False) for score in scores]"
   ]
  },
  {
   "cell_type": "code",
   "execution_count": 84,
   "metadata": {},
   "outputs": [
    {
     "data": {
      "image/png": "[encoded data removed]",
      "text/plain": [
       "<Figure size 864x864 with 2 Axes>"
      ]
     },
     "metadata": {
      "needs_background": "light"
     },
     "output_type": "display_data"
    }
   ],
   "source": [
    "cnf_matrix = confusion_matrix(y_test_1d, y_pred_1d)\n",
    "plt.figure(figsize=(12,12))\n",
    "plot_confusion_matrix(cnf_matrix, classes=y_test.unique(), title=\"Confusion matrix\")\n",
    "plt.show()"
   ]
  },
  {
   "cell_type": "code",
   "execution_count": 85,
   "metadata": {},
   "outputs": [
    {
     "data": {
      "text/plain": [
       "0.505"
      ]
     },
     "execution_count": 85,
     "metadata": {},
     "output_type": "execute_result"
    }
   ],
   "source": [
    "accuracy_score(y_test_1d, y_pred_1d)"
   ]
  },
  {
   "cell_type": "markdown",
   "metadata": {},
   "source": [
    "### 1D Convolution Layer and LSTM"
   ]
  },
  {
   "cell_type": "code",
   "execution_count": 86,
   "metadata": {},
   "outputs": [
    {
     "name": "stdout",
     "output_type": "stream",
     "text": [
      "Model: \"sequential_3\"\n",
      "_________________________________________________________________\n",
      "Layer (type)                 Output Shape              Param #   \n",
      "=================================================================\n",
      "embedding_1 (Embedding)      (None, 300, 300)          1110900   \n",
      "_________________________________________________________________\n",
      "dropout_4 (Dropout)          (None, 300, 300)          0         \n",
      "_________________________________________________________________\n",
      "conv1d_2 (Conv1D)            (None, 298, 64)           57664     \n",
      "_________________________________________________________________\n",
      "dropout_5 (Dropout)          (None, 298, 64)           0         \n",
      "_________________________________________________________________\n",
      "max_pooling1d_2 (MaxPooling1 (None, 99, 64)            0         \n",
      "_________________________________________________________________\n",
      "dropout_6 (Dropout)          (None, 99, 64)            0         \n",
      "_________________________________________________________________\n",
      "lstm_2 (LSTM)                (None, 100)               66000     \n",
      "_________________________________________________________________\n",
      "dense_3 (Dense)              (None, 1)                 101       \n",
      "=================================================================\n",
      "Total params: 1,234,665\n",
      "Trainable params: 123,765\n",
      "Non-trainable params: 1,110,900\n",
      "_________________________________________________________________\n"
     ]
    }
   ],
   "source": [
    "model = Sequential()\n",
    "model.add(wv_embedding_layer)\n",
    "model.add(Dropout(0.5))\n",
    "model.add(Conv1D(filters=64, kernel_size=3, activation='relu'))\n",
    "model.add(Dropout(0.5))\n",
    "model.add(MaxPooling1D(pool_size=3))\n",
    "model.add(Dropout(0.5))\n",
    "model.add(LSTM(100, dropout=0.2, recurrent_dropout=0.2))\n",
    "model.add(Dense(1, activation='sigmoid'))\n",
    "model.compile(loss='binary_crossentropy', optimizer='adam', metrics=['accuracy'])\n",
    "model.summary()"
   ]
  },
  {
   "cell_type": "code",
   "execution_count": 87,
   "metadata": {},
   "outputs": [
    {
     "name": "stdout",
     "output_type": "stream",
     "text": [
      "Train on 1260 samples, validate on 140 samples\n",
      "Epoch 1/8\n",
      "1260/1260 [==============================] - 13s 10ms/step - loss: 0.6930 - accuracy: 0.4968 - val_loss: 0.6929 - val_accuracy: 0.5143\n",
      "Epoch 2/8\n",
      "1260/1260 [==============================] - 11s 9ms/step - loss: 0.6931 - accuracy: 0.5071 - val_loss: 0.6935 - val_accuracy: 0.4714\n",
      "Epoch 3/8\n",
      "1260/1260 [==============================] - 11s 9ms/step - loss: 0.6940 - accuracy: 0.4897 - val_loss: 0.6942 - val_accuracy: 0.4857\n",
      "Epoch 4/8\n",
      "1260/1260 [==============================] - 12s 9ms/step - loss: 0.6946 - accuracy: 0.5024 - val_loss: 0.6944 - val_accuracy: 0.4857\n",
      "Epoch 5/8\n",
      "1260/1260 [==============================] - 11s 9ms/step - loss: 0.6938 - accuracy: 0.4881 - val_loss: 0.6943 - val_accuracy: 0.4857\n",
      "Epoch 6/8\n",
      "1260/1260 [==============================] - 11s 9ms/step - loss: 0.6937 - accuracy: 0.5111 - val_loss: 0.6938 - val_accuracy: 0.4643\n",
      "Epoch 7/8\n",
      "1260/1260 [==============================] - 12s 9ms/step - loss: 0.6928 - accuracy: 0.5206 - val_loss: 0.6938 - val_accuracy: 0.4143\n",
      "Epoch 8/8\n",
      "1260/1260 [==============================] - 11s 9ms/step - loss: 0.6933 - accuracy: 0.4889 - val_loss: 0.6937 - val_accuracy: 0.4000\n"
     ]
    }
   ],
   "source": [
    "history = model.fit(x_train_pd, y_train,\n",
    "                    batch_size=BATCH_SIZE,\n",
    "                    epochs=EPOCHS,\n",
    "                    validation_split=0.1,\n",
    "                    verbose=1,\n",
    "                    callbacks=callbacks)"
   ]
  },
  {
   "cell_type": "code",
   "execution_count": 88,
   "metadata": {},
   "outputs": [
    {
     "name": "stdout",
     "output_type": "stream",
     "text": [
      "\r",
      "600/600 [==============================] - 2s 3ms/step\n"
     ]
    }
   ],
   "source": [
    "y_pred_1d = []\n",
    "y_test_1d = list(y_test)\n",
    "scores = model.predict(x_test_pd, verbose=1, batch_size=8000)\n",
    "y_pred_1d = [decode_sentiment(score, include_neutral=False) for score in scores]"
   ]
  },
  {
   "cell_type": "code",
   "execution_count": 89,
   "metadata": {},
   "outputs": [
    {
     "data": {
      "image/png": "[encoded data removed]",
      "text/plain": [
       "<Figure size 864x864 with 2 Axes>"
      ]
     },
     "metadata": {
      "needs_background": "light"
     },
     "output_type": "display_data"
    }
   ],
   "source": [
    "cnf_matrix = confusion_matrix(y_test_1d, y_pred_1d)\n",
    "plt.figure(figsize=(12,12))\n",
    "plot_confusion_matrix(cnf_matrix, classes=y_test.unique(), title=\"Confusion matrix\")\n",
    "plt.show()"
   ]
  },
  {
   "cell_type": "code",
   "execution_count": 90,
   "metadata": {},
   "outputs": [
    {
     "data": {
      "text/plain": [
       "0.48833333333333334"
      ]
     },
     "execution_count": 90,
     "metadata": {},
     "output_type": "execute_result"
    }
   ],
   "source": [
    "accuracy_score(y_test_1d, y_pred_1d)"
   ]
  },
  {
   "cell_type": "markdown",
   "metadata": {},
   "source": [
    "### LSTM With Glove"
   ]
  },
  {
   "cell_type": "code",
   "execution_count": 91,
   "metadata": {},
   "outputs": [
    {
     "name": "stdout",
     "output_type": "stream",
     "text": [
      "Model: \"sequential_4\"\n",
      "_________________________________________________________________\n",
      "Layer (type)                 Output Shape              Param #   \n",
      "=================================================================\n",
      "embedding_2 (Embedding)      (None, 300, 100)          119351500 \n",
      "_________________________________________________________________\n",
      "dropout_7 (Dropout)          (None, 300, 100)          0         \n",
      "_________________________________________________________________\n",
      "lstm_3 (LSTM)                (None, 100)               80400     \n",
      "_________________________________________________________________\n",
      "dense_4 (Dense)              (None, 1)                 101       \n",
      "=================================================================\n",
      "Total params: 119,432,001\n",
      "Trainable params: 80,501\n",
      "Non-trainable params: 119,351,500\n",
      "_________________________________________________________________\n"
     ]
    }
   ],
   "source": [
    "model = Sequential()\n",
    "model.add(gv_embedding_layer)\n",
    "model.add(Dropout(0.5))\n",
    "model.add(LSTM(100, dropout=0.2, recurrent_dropout=0.2))\n",
    "model.add(Dense(1, activation='sigmoid'))\n",
    "\n",
    "model.summary()"
   ]
  },
  {
   "cell_type": "code",
   "execution_count": 92,
   "metadata": {},
   "outputs": [
    {
     "name": "stdout",
     "output_type": "stream",
     "text": [
      "Train on 1260 samples, validate on 140 samples\n",
      "Epoch 1/8\n",
      "1260/1260 [==============================] - 13s 10ms/step - loss: 0.6999 - accuracy: 0.5040 - val_loss: 0.6800 - val_accuracy: 0.5857\n",
      "Epoch 2/8\n",
      "1260/1260 [==============================] - 12s 9ms/step - loss: 0.6911 - accuracy: 0.5397 - val_loss: 0.6670 - val_accuracy: 0.6214\n",
      "Epoch 3/8\n",
      "1260/1260 [==============================] - 12s 9ms/step - loss: 0.6784 - accuracy: 0.5762 - val_loss: 0.6562 - val_accuracy: 0.6714\n",
      "Epoch 4/8\n",
      "1260/1260 [==============================] - 12s 9ms/step - loss: 0.6687 - accuracy: 0.6040 - val_loss: 0.6484 - val_accuracy: 0.6500\n",
      "Epoch 5/8\n",
      "1260/1260 [==============================] - 12s 10ms/step - loss: 0.6611 - accuracy: 0.6024 - val_loss: 0.6408 - val_accuracy: 0.6643\n",
      "Epoch 6/8\n",
      "1260/1260 [==============================] - 12s 9ms/step - loss: 0.6554 - accuracy: 0.6357 - val_loss: 0.6314 - val_accuracy: 0.6857\n",
      "Epoch 7/8\n",
      "1260/1260 [==============================] - 12s 9ms/step - loss: 0.6448 - accuracy: 0.6365 - val_loss: 0.6194 - val_accuracy: 0.6786\n",
      "Epoch 8/8\n",
      "1260/1260 [==============================] - 12s 10ms/step - loss: 0.6439 - accuracy: 0.6492 - val_loss: 0.6093 - val_accuracy: 0.6786\n"
     ]
    }
   ],
   "source": [
    "model.compile(loss='binary_crossentropy',\n",
    "              optimizer=\"adam\",\n",
    "              metrics=['accuracy'])\n",
    "\n",
    "callbacks = [ ReduceLROnPlateau(monitor='val_loss', patience=5, cooldown=0),\n",
    "              EarlyStopping(monitor='val_acc', min_delta=1e-4, patience=5)]\n",
    "\n",
    "history = model.fit(x_train_pd, y_train,\n",
    "                    batch_size=BATCH_SIZE,\n",
    "                    epochs=EPOCHS,\n",
    "                    validation_split=0.1,\n",
    "                    verbose=1,\n",
    "                    callbacks=callbacks)"
   ]
  },
  {
   "cell_type": "code",
   "execution_count": 93,
   "metadata": {},
   "outputs": [
    {
     "name": "stdout",
     "output_type": "stream",
     "text": [
      "\r",
      "600/600 [==============================] - 2s 3ms/step\n"
     ]
    }
   ],
   "source": [
    "y_pred_1d = []\n",
    "y_test_1d = list(y_test)\n",
    "scores = model.predict(x_test_pd, verbose=1, batch_size=8000)\n",
    "y_pred_1d = [decode_sentiment(score, include_neutral=False) for score in scores]"
   ]
  },
  {
   "cell_type": "code",
   "execution_count": 94,
   "metadata": {},
   "outputs": [
    {
     "data": {
      "image/png": "[encoded data removed]",
      "text/plain": [
       "<Figure size 864x864 with 2 Axes>"
      ]
     },
     "metadata": {
      "needs_background": "light"
     },
     "output_type": "display_data"
    }
   ],
   "source": [
    "cnf_matrix = confusion_matrix(y_test_1d, y_pred_1d)\n",
    "plt.figure(figsize=(12,12))\n",
    "plot_confusion_matrix(cnf_matrix, classes=y_test.unique(), title=\"Confusion matrix\")\n",
    "plt.show()"
   ]
  },
  {
   "cell_type": "code",
   "execution_count": 95,
   "metadata": {},
   "outputs": [
    {
     "data": {
      "text/plain": [
       "0.68"
      ]
     },
     "execution_count": 95,
     "metadata": {},
     "output_type": "execute_result"
    }
   ],
   "source": [
    "accuracy_score(y_test_1d, y_pred_1d)"
   ]
  },
  {
   "cell_type": "markdown",
   "metadata": {},
   "source": [
    "### CNN with Glove"
   ]
  },
  {
   "cell_type": "code",
   "execution_count": 96,
   "metadata": {},
   "outputs": [
    {
     "name": "stdout",
     "output_type": "stream",
     "text": [
      "Model: \"sequential_5\"\n",
      "_________________________________________________________________\n",
      "Layer (type)                 Output Shape              Param #   \n",
      "=================================================================\n",
      "embedding_2 (Embedding)      (None, 300, 100)          119351500 \n",
      "_________________________________________________________________\n",
      "dropout_8 (Dropout)          (None, 300, 100)          0         \n",
      "_________________________________________________________________\n",
      "conv1d_3 (Conv1D)            (None, 298, 64)           19264     \n",
      "_________________________________________________________________\n",
      "dropout_9 (Dropout)          (None, 298, 64)           0         \n",
      "_________________________________________________________________\n",
      "max_pooling1d_3 (MaxPooling1 (None, 149, 64)           0         \n",
      "_________________________________________________________________\n",
      "flatten_2 (Flatten)          (None, 9536)              0         \n",
      "_________________________________________________________________\n",
      "dense_5 (Dense)              (None, 1)                 9537      \n",
      "=================================================================\n",
      "Total params: 119,380,301\n",
      "Trainable params: 28,801\n",
      "Non-trainable params: 119,351,500\n",
      "_________________________________________________________________\n"
     ]
    }
   ],
   "source": [
    "model = Sequential()\n",
    "model.add(gv_embedding_layer)\n",
    "model.add(Dropout(0.5))\n",
    "model.add(Conv1D(filters=64, kernel_size=3, activation='relu'))\n",
    "model.add(Dropout(0.5))\n",
    "model.add(MaxPooling1D(pool_size=2))\n",
    "model.add(Flatten())\n",
    "model.add(Dense(1, activation='sigmoid'))\n",
    "model.compile(loss='binary_crossentropy', optimizer='adam', metrics=['accuracy'])\n",
    "model.summary()"
   ]
  },
  {
   "cell_type": "code",
   "execution_count": 97,
   "metadata": {},
   "outputs": [
    {
     "name": "stdout",
     "output_type": "stream",
     "text": [
      "Train on 1260 samples, validate on 140 samples\n",
      "Epoch 1/8\n",
      "1260/1260 [==============================] - 4s 3ms/step - loss: 0.6988 - accuracy: 0.4976 - val_loss: 0.6877 - val_accuracy: 0.6000\n",
      "Epoch 2/8\n",
      "1260/1260 [==============================] - 3s 3ms/step - loss: 0.6943 - accuracy: 0.5016 - val_loss: 0.6865 - val_accuracy: 0.6214\n",
      "Epoch 3/8\n",
      "1260/1260 [==============================] - 3s 3ms/step - loss: 0.6932 - accuracy: 0.5357 - val_loss: 0.6844 - val_accuracy: 0.5857\n",
      "Epoch 4/8\n",
      "1260/1260 [==============================] - 3s 3ms/step - loss: 0.6907 - accuracy: 0.5333 - val_loss: 0.6814 - val_accuracy: 0.5714\n",
      "Epoch 5/8\n",
      "1260/1260 [==============================] - 3s 3ms/step - loss: 0.6802 - accuracy: 0.5667 - val_loss: 0.6782 - val_accuracy: 0.6286\n",
      "Epoch 6/8\n",
      "1260/1260 [==============================] - 3s 3ms/step - loss: 0.6808 - accuracy: 0.5714 - val_loss: 0.6749 - val_accuracy: 0.6571\n",
      "Epoch 7/8\n",
      "1260/1260 [==============================] - 3s 3ms/step - loss: 0.6775 - accuracy: 0.5722 - val_loss: 0.6721 - val_accuracy: 0.6643\n",
      "Epoch 8/8\n",
      "1260/1260 [==============================] - 3s 3ms/step - loss: 0.6740 - accuracy: 0.5857 - val_loss: 0.6700 - val_accuracy: 0.6643\n"
     ]
    }
   ],
   "source": [
    "history = model.fit(x_train_pd, y_train,\n",
    "                    batch_size=BATCH_SIZE,\n",
    "                    epochs=EPOCHS,\n",
    "                    validation_split=0.1,\n",
    "                    verbose=1,\n",
    "                    callbacks=callbacks)"
   ]
  },
  {
   "cell_type": "code",
   "execution_count": 98,
   "metadata": {},
   "outputs": [
    {
     "name": "stdout",
     "output_type": "stream",
     "text": [
      "\r",
      "600/600 [==============================] - 1s 1ms/step\n"
     ]
    }
   ],
   "source": [
    "y_pred_1d = []\n",
    "y_test_1d = list(y_test)\n",
    "scores = model.predict(x_test_pd, verbose=1, batch_size=8000)\n",
    "y_pred_1d = [decode_sentiment(score, include_neutral=False) for score in scores]\n"
   ]
  },
  {
   "cell_type": "code",
   "execution_count": 99,
   "metadata": {},
   "outputs": [
    {
     "data": {
      "image/png": "[encoded data removed]",
      "text/plain": [
       "<Figure size 864x864 with 2 Axes>"
      ]
     },
     "metadata": {
      "needs_background": "light"
     },
     "output_type": "display_data"
    }
   ],
   "source": [
    "cnf_matrix = confusion_matrix(y_test_1d, y_pred_1d)\n",
    "plt.figure(figsize=(12,12))\n",
    "plot_confusion_matrix(cnf_matrix, classes=y_test.unique(), title=\"Confusion matrix\")\n",
    "plt.show()"
   ]
  },
  {
   "cell_type": "markdown",
   "metadata": {},
   "source": [
    "### LSTM with CNN and Glove"
   ]
  },
  {
   "cell_type": "code",
   "execution_count": 100,
   "metadata": {},
   "outputs": [
    {
     "name": "stdout",
     "output_type": "stream",
     "text": [
      "Model: \"sequential_6\"\n",
      "_________________________________________________________________\n",
      "Layer (type)                 Output Shape              Param #   \n",
      "=================================================================\n",
      "embedding_2 (Embedding)      (None, 300, 100)          119351500 \n",
      "_________________________________________________________________\n",
      "dropout_10 (Dropout)         (None, 300, 100)          0         \n",
      "_________________________________________________________________\n",
      "conv1d_4 (Conv1D)            (None, 298, 64)           19264     \n",
      "_________________________________________________________________\n",
      "dropout_11 (Dropout)         (None, 298, 64)           0         \n",
      "_________________________________________________________________\n",
      "max_pooling1d_4 (MaxPooling1 (None, 99, 64)            0         \n",
      "_________________________________________________________________\n",
      "dropout_12 (Dropout)         (None, 99, 64)            0         \n",
      "_________________________________________________________________\n",
      "lstm_4 (LSTM)                (None, 100)               66000     \n",
      "_________________________________________________________________\n",
      "dense_6 (Dense)              (None, 1)                 101       \n",
      "=================================================================\n",
      "Total params: 119,436,865\n",
      "Trainable params: 85,365\n",
      "Non-trainable params: 119,351,500\n",
      "_________________________________________________________________\n"
     ]
    }
   ],
   "source": [
    "model = Sequential()\n",
    "model.add(gv_embedding_layer)\n",
    "model.add(Dropout(0.5))\n",
    "model.add(Conv1D(filters=64, kernel_size=3, activation='relu'))\n",
    "model.add(Dropout(0.5))\n",
    "model.add(MaxPooling1D(pool_size=3))\n",
    "model.add(Dropout(0.5))\n",
    "model.add(LSTM(100, dropout=0.2, recurrent_dropout=0.2))\n",
    "model.add(Dense(1, activation='sigmoid'))\n",
    "model.compile(loss='binary_crossentropy', optimizer='adam', metrics=['accuracy'])\n",
    "model.summary()"
   ]
  },
  {
   "cell_type": "code",
   "execution_count": 101,
   "metadata": {},
   "outputs": [
    {
     "name": "stdout",
     "output_type": "stream",
     "text": [
      "Train on 1260 samples, validate on 140 samples\n",
      "Epoch 1/8\n",
      "1260/1260 [==============================] - 9s 7ms/step - loss: 0.7185 - accuracy: 0.4905 - val_loss: 0.6943 - val_accuracy: 0.5000\n",
      "Epoch 2/8\n",
      "1260/1260 [==============================] - 7s 6ms/step - loss: 0.7034 - accuracy: 0.5024 - val_loss: 0.7056 - val_accuracy: 0.5000\n",
      "Epoch 3/8\n",
      "1260/1260 [==============================] - 7s 6ms/step - loss: 0.7036 - accuracy: 0.5040 - val_loss: 0.7045 - val_accuracy: 0.4929\n",
      "Epoch 4/8\n",
      "1260/1260 [==============================] - 7s 6ms/step - loss: 0.7023 - accuracy: 0.5032 - val_loss: 0.6961 - val_accuracy: 0.5143\n",
      "Epoch 5/8\n",
      "1260/1260 [==============================] - 7s 6ms/step - loss: 0.7013 - accuracy: 0.4984 - val_loss: 0.6894 - val_accuracy: 0.5714\n",
      "Epoch 6/8\n",
      "1260/1260 [==============================] - 7s 6ms/step - loss: 0.6954 - accuracy: 0.5087 - val_loss: 0.6856 - val_accuracy: 0.5857\n",
      "Epoch 7/8\n",
      "1260/1260 [==============================] - 7s 6ms/step - loss: 0.6982 - accuracy: 0.5167 - val_loss: 0.6841 - val_accuracy: 0.5500\n",
      "Epoch 8/8\n",
      "1260/1260 [==============================] - 7s 6ms/step - loss: 0.6936 - accuracy: 0.5079 - val_loss: 0.6833 - val_accuracy: 0.5429\n"
     ]
    }
   ],
   "source": [
    "history = model.fit(x_train_pd, y_train,\n",
    "                    batch_size=BATCH_SIZE,\n",
    "                    epochs=EPOCHS,\n",
    "                    validation_split=0.1,\n",
    "                    verbose=1,\n",
    "                    callbacks=callbacks)"
   ]
  },
  {
   "cell_type": "code",
   "execution_count": 102,
   "metadata": {},
   "outputs": [
    {
     "name": "stdout",
     "output_type": "stream",
     "text": [
      "\r",
      "600/600 [==============================] - 1s 2ms/step\n"
     ]
    },
    {
     "data": {
      "image/png": "[encoded data removed]",
      "text/plain": [
       "<Figure size 864x864 with 2 Axes>"
      ]
     },
     "metadata": {
      "needs_background": "light"
     },
     "output_type": "display_data"
    },
    {
     "data": {
      "text/plain": [
       "0.5283333333333333"
      ]
     },
     "execution_count": 102,
     "metadata": {},
     "output_type": "execute_result"
    }
   ],
   "source": [
    "y_pred_1d = []\n",
    "y_test_1d = list(y_test)\n",
    "scores = model.predict(x_test_pd, verbose=1, batch_size=8000)\n",
    "y_pred_1d = [decode_sentiment(score, include_neutral=False) for score in scores]\n",
    "\n",
    "\n",
    "cnf_matrix = confusion_matrix(y_test_1d, y_pred_1d)\n",
    "plt.figure(figsize=(12,12))\n",
    "plot_confusion_matrix(cnf_matrix, classes=y_test.unique(), title=\"Confusion matrix\")\n",
    "plt.show()\n",
    "\n",
    "accuracy_score(y_test_1d, y_pred_1d)"
   ]
  },
  {
   "cell_type": "markdown",
   "metadata": {},
   "source": [
    "### LSTM and CNN (3 LAYERS)  "
   ]
  },
  {
   "cell_type": "code",
   "execution_count": 103,
   "metadata": {},
   "outputs": [
    {
     "name": "stdout",
     "output_type": "stream",
     "text": [
      "Model: \"sequential_7\"\n",
      "_________________________________________________________________\n",
      "Layer (type)                 Output Shape              Param #   \n",
      "=================================================================\n",
      "embedding_2 (Embedding)      (None, 300, 100)          119351500 \n",
      "_________________________________________________________________\n",
      "dropout_13 (Dropout)         (None, 300, 100)          0         \n",
      "_________________________________________________________________\n",
      "conv1d_5 (Conv1D)            (None, 298, 64)           19264     \n",
      "_________________________________________________________________\n",
      "dropout_14 (Dropout)         (None, 298, 64)           0         \n",
      "_________________________________________________________________\n",
      "conv1d_6 (Conv1D)            (None, 296, 64)           12352     \n",
      "_________________________________________________________________\n",
      "dropout_15 (Dropout)         (None, 296, 64)           0         \n",
      "_________________________________________________________________\n",
      "conv1d_7 (Conv1D)            (None, 294, 64)           12352     \n",
      "_________________________________________________________________\n",
      "dropout_16 (Dropout)         (None, 294, 64)           0         \n",
      "_________________________________________________________________\n",
      "max_pooling1d_5 (MaxPooling1 (None, 98, 64)            0         \n",
      "_________________________________________________________________\n",
      "dropout_17 (Dropout)         (None, 98, 64)            0         \n",
      "_________________________________________________________________\n",
      "lstm_5 (LSTM)                (None, 100)               66000     \n",
      "_________________________________________________________________\n",
      "dense_7 (Dense)              (None, 1)                 101       \n",
      "=================================================================\n",
      "Total params: 119,461,569\n",
      "Trainable params: 110,069\n",
      "Non-trainable params: 119,351,500\n",
      "_________________________________________________________________\n"
     ]
    }
   ],
   "source": [
    "model = Sequential()\n",
    "model.add(gv_embedding_layer)\n",
    "model.add(Dropout(0.5))\n",
    "model.add(Conv1D(filters=64, kernel_size=3, activation='relu'))\n",
    "model.add(Dropout(0.5))\n",
    "model.add(Conv1D(filters=64, kernel_size=3, activation='relu'))\n",
    "model.add(Dropout(0.5))\n",
    "model.add(Conv1D(filters=64, kernel_size=3, activation='relu'))\n",
    "model.add(Dropout(0.5))\n",
    "model.add(MaxPooling1D(pool_size=3))\n",
    "model.add(Dropout(0.5))\n",
    "model.add(LSTM(100, dropout=0.2, recurrent_dropout=0.2))\n",
    "model.add(Dense(1, activation='sigmoid'))\n",
    "model.compile(loss='binary_crossentropy', optimizer='adam', metrics=['accuracy'])\n",
    "model.summary()"
   ]
  },
  {
   "cell_type": "code",
   "execution_count": 104,
   "metadata": {},
   "outputs": [
    {
     "name": "stdout",
     "output_type": "stream",
     "text": [
      "Train on 1260 samples, validate on 140 samples\n",
      "Epoch 1/8\n",
      "1260/1260 [==============================] - 13s 10ms/step - loss: 0.7002 - accuracy: 0.5024 - val_loss: 0.6955 - val_accuracy: 0.4857\n",
      "Epoch 2/8\n",
      "1260/1260 [==============================] - 11s 9ms/step - loss: 0.7079 - accuracy: 0.5016 - val_loss: 0.6964 - val_accuracy: 0.4857\n",
      "Epoch 3/8\n",
      "1260/1260 [==============================] - 11s 9ms/step - loss: 0.7061 - accuracy: 0.4762 - val_loss: 0.6941 - val_accuracy: 0.4714\n",
      "Epoch 4/8\n",
      "1260/1260 [==============================] - 11s 9ms/step - loss: 0.6947 - accuracy: 0.5135 - val_loss: 0.6930 - val_accuracy: 0.5000\n",
      "Epoch 5/8\n",
      "1260/1260 [==============================] - 11s 9ms/step - loss: 0.6979 - accuracy: 0.4913 - val_loss: 0.6928 - val_accuracy: 0.4929\n",
      "Epoch 6/8\n",
      "1260/1260 [==============================] - 11s 9ms/step - loss: 0.6972 - accuracy: 0.4921 - val_loss: 0.6927 - val_accuracy: 0.5214\n",
      "Epoch 7/8\n",
      "1260/1260 [==============================] - 11s 9ms/step - loss: 0.6945 - accuracy: 0.5135 - val_loss: 0.6927 - val_accuracy: 0.5286\n",
      "Epoch 8/8\n",
      "1260/1260 [==============================] - 11s 9ms/step - loss: 0.7007 - accuracy: 0.4889 - val_loss: 0.6928 - val_accuracy: 0.5286\n"
     ]
    }
   ],
   "source": [
    "history = model.fit(x_train_pd, y_train,\n",
    "                    batch_size=BATCH_SIZE,\n",
    "                    epochs=EPOCHS,\n",
    "                    validation_split=0.1,\n",
    "                    verbose=1,\n",
    "                    callbacks=callbacks)"
   ]
  },
  {
   "cell_type": "code",
   "execution_count": 105,
   "metadata": {},
   "outputs": [
    {
     "name": "stdout",
     "output_type": "stream",
     "text": [
      "\r",
      "600/600 [==============================] - 2s 3ms/step\n"
     ]
    },
    {
     "data": {
      "image/png": "[encoded data removed]",
      "text/plain": [
       "<Figure size 864x864 with 2 Axes>"
      ]
     },
     "metadata": {
      "needs_background": "light"
     },
     "output_type": "display_data"
    },
    {
     "data": {
      "text/plain": [
       "0.505"
      ]
     },
     "execution_count": 105,
     "metadata": {},
     "output_type": "execute_result"
    }
   ],
   "source": [
    "y_pred_1d = []\n",
    "y_test_1d = list(y_test)\n",
    "scores = model.predict(x_test_pd, verbose=1, batch_size=8000)\n",
    "y_pred_1d = [decode_sentiment(score, include_neutral=False) for score in scores]\n",
    "\n",
    "\n",
    "cnf_matrix = confusion_matrix(y_test_1d, y_pred_1d)\n",
    "plt.figure(figsize=(12,12))\n",
    "plot_confusion_matrix(cnf_matrix, classes=y_test.unique(), title=\"Confusion matrix\")\n",
    "plt.show()\n",
    "\n",
    "accuracy_score(y_test_1d, y_pred_1d)"
   ]
  },
  {
   "cell_type": "code",
   "execution_count": 106,
   "metadata": {},
   "outputs": [],
   "source": [
    "### Final Analysis"
   ]
  },
  {
   "cell_type": "code",
   "execution_count": 107,
   "metadata": {},
   "outputs": [
    {
     "data": {
      "text/html": [
       "<div>\n",
       "<style scoped>\n",
       "    .dataframe tbody tr th:only-of-type {\n",
       "        vertical-align: middle;\n",
       "    }\n",
       "\n",
       "    .dataframe tbody tr th {\n",
       "        vertical-align: top;\n",
       "    }\n",
       "\n",
       "    .dataframe thead th {\n",
       "        text-align: right;\n",
       "    }\n",
       "</style>\n",
       "<table border=\"1\" class=\"dataframe\">\n",
       "  <thead>\n",
       "    <tr style=\"text-align: right;\">\n",
       "      <th></th>\n",
       "      <th>target</th>\n",
       "      <th>ids</th>\n",
       "      <th>date</th>\n",
       "      <th>query</th>\n",
       "      <th>user</th>\n",
       "      <th>text</th>\n",
       "      <th>mtext</th>\n",
       "      <th>urls</th>\n",
       "      <th>inValidUrl</th>\n",
       "      <th>Parties</th>\n",
       "      <th>TLen</th>\n",
       "      <th>DayOfWeek</th>\n",
       "      <th>TweetTime</th>\n",
       "      <th>MonthTweeted</th>\n",
       "      <th>POS_TAGS</th>\n",
       "      <th>time_slot</th>\n",
       "    </tr>\n",
       "  </thead>\n",
       "  <tbody>\n",
       "    <tr>\n",
       "      <th>800000</th>\n",
       "      <td>POSITIVE</td>\n",
       "      <td>1467822272</td>\n",
       "      <td>2009-04-06 22:22:45</td>\n",
       "      <td>NO_QUERY</td>\n",
       "      <td>ersle</td>\n",
       "      <td>I LOVE @Health4UandPets u guys r the best!!</td>\n",
       "      <td>love health4uandpets u guys r best</td>\n",
       "      <td></td>\n",
       "      <td>ValidUrl</td>\n",
       "      <td>[Health4UandPets]</td>\n",
       "      <td>34</td>\n",
       "      <td>Monday</td>\n",
       "      <td>22:22:45</td>\n",
       "      <td>April</td>\n",
       "      <td>[(l, NN), (o, MD), (v, VB), (e, NN), ( , NNP),...</td>\n",
       "      <td>Late_Night</td>\n",
       "    </tr>\n",
       "    <tr>\n",
       "      <th>800001</th>\n",
       "      <td>POSITIVE</td>\n",
       "      <td>1467822273</td>\n",
       "      <td>2009-04-06 22:22:45</td>\n",
       "      <td>NO_QUERY</td>\n",
       "      <td>becca210</td>\n",
       "      <td>im meeting up with one of my besties tonight! ...</td>\n",
       "      <td>im meeting one besties tonight cant wait girl ...</td>\n",
       "      <td></td>\n",
       "      <td>ValidUrl</td>\n",
       "      <td>[]</td>\n",
       "      <td>50</td>\n",
       "      <td>Monday</td>\n",
       "      <td>22:22:45</td>\n",
       "      <td>April</td>\n",
       "      <td>[(i, JJ), (m, VBP), ( , JJ), (m, NN), (e, NN),...</td>\n",
       "      <td>Late_Night</td>\n",
       "    </tr>\n",
       "    <tr>\n",
       "      <th>800002</th>\n",
       "      <td>POSITIVE</td>\n",
       "      <td>1467822283</td>\n",
       "      <td>2009-04-06 22:22:46</td>\n",
       "      <td>NO_QUERY</td>\n",
       "      <td>Wingman29</td>\n",
       "      <td>@DaRealSunisaKim Thanks for the Twitter add, S...</td>\n",
       "      <td>thanks twitter add sunisa got meet hin show dc...</td>\n",
       "      <td></td>\n",
       "      <td>ValidUrl</td>\n",
       "      <td>[DaRealSunisaKim]</td>\n",
       "      <td>62</td>\n",
       "      <td>Monday</td>\n",
       "      <td>22:22:46</td>\n",
       "      <td>April</td>\n",
       "      <td>[(t, NN), (h, VBZ), (a, DT), (n, JJ), (k, NN),...</td>\n",
       "      <td>Late_Night</td>\n",
       "    </tr>\n",
       "    <tr>\n",
       "      <th>800003</th>\n",
       "      <td>POSITIVE</td>\n",
       "      <td>1467822287</td>\n",
       "      <td>2009-04-06 22:22:46</td>\n",
       "      <td>NO_QUERY</td>\n",
       "      <td>katarinka</td>\n",
       "      <td>Being sick can be really cheap when it hurts t...</td>\n",
       "      <td>sick really cheap hurts much eat real food plu...</td>\n",
       "      <td></td>\n",
       "      <td>ValidUrl</td>\n",
       "      <td>[]</td>\n",
       "      <td>65</td>\n",
       "      <td>Monday</td>\n",
       "      <td>22:22:46</td>\n",
       "      <td>April</td>\n",
       "      <td>[(s, NN), (i, NN), (c, VBP), (k, NN), ( , NNP)...</td>\n",
       "      <td>Late_Night</td>\n",
       "    </tr>\n",
       "    <tr>\n",
       "      <th>800004</th>\n",
       "      <td>POSITIVE</td>\n",
       "      <td>1467822293</td>\n",
       "      <td>2009-04-06 22:22:46</td>\n",
       "      <td>NO_QUERY</td>\n",
       "      <td>_EmilyYoung</td>\n",
       "      <td>@LovesBrooklyn2 he has that effect on everyone</td>\n",
       "      <td>effect everyone</td>\n",
       "      <td></td>\n",
       "      <td>ValidUrl</td>\n",
       "      <td>[LovesBrooklyn2]</td>\n",
       "      <td>15</td>\n",
       "      <td>Monday</td>\n",
       "      <td>22:22:46</td>\n",
       "      <td>April</td>\n",
       "      <td>[(e, NN), (f, NNS), (f, VBP), (e, JJ), (c, NNS...</td>\n",
       "      <td>Late_Night</td>\n",
       "    </tr>\n",
       "  </tbody>\n",
       "</table>\n",
       "</div>"
      ],
      "text/plain": [
       "          target         ids                date     query         user  \\\n",
       "800000  POSITIVE  1467822272 2009-04-06 22:22:45  NO_QUERY        ersle   \n",
       "800001  POSITIVE  1467822273 2009-04-06 22:22:45  NO_QUERY     becca210   \n",
       "800002  POSITIVE  1467822283 2009-04-06 22:22:46  NO_QUERY    Wingman29   \n",
       "800003  POSITIVE  1467822287 2009-04-06 22:22:46  NO_QUERY    katarinka   \n",
       "800004  POSITIVE  1467822293 2009-04-06 22:22:46  NO_QUERY  _EmilyYoung   \n",
       "\n",
       "                                                     text  \\\n",
       "800000       I LOVE @Health4UandPets u guys r the best!!    \n",
       "800001  im meeting up with one of my besties tonight! ...   \n",
       "800002  @DaRealSunisaKim Thanks for the Twitter add, S...   \n",
       "800003  Being sick can be really cheap when it hurts t...   \n",
       "800004    @LovesBrooklyn2 he has that effect on everyone    \n",
       "\n",
       "                                                    mtext urls inValidUrl  \\\n",
       "800000                 love health4uandpets u guys r best        ValidUrl   \n",
       "800001  im meeting one besties tonight cant wait girl ...        ValidUrl   \n",
       "800002  thanks twitter add sunisa got meet hin show dc...        ValidUrl   \n",
       "800003  sick really cheap hurts much eat real food plu...        ValidUrl   \n",
       "800004                                    effect everyone        ValidUrl   \n",
       "\n",
       "                  Parties  TLen DayOfWeek TweetTime MonthTweeted  \\\n",
       "800000  [Health4UandPets]    34    Monday  22:22:45        April   \n",
       "800001                 []    50    Monday  22:22:45        April   \n",
       "800002  [DaRealSunisaKim]    62    Monday  22:22:46        April   \n",
       "800003                 []    65    Monday  22:22:46        April   \n",
       "800004   [LovesBrooklyn2]    15    Monday  22:22:46        April   \n",
       "\n",
       "                                                 POS_TAGS   time_slot  \n",
       "800000  [(l, NN), (o, MD), (v, VB), (e, NN), ( , NNP),...  Late_Night  \n",
       "800001  [(i, JJ), (m, VBP), ( , JJ), (m, NN), (e, NN),...  Late_Night  \n",
       "800002  [(t, NN), (h, VBZ), (a, DT), (n, JJ), (k, NN),...  Late_Night  \n",
       "800003  [(s, NN), (i, NN), (c, VBP), (k, NN), ( , NNP)...  Late_Night  \n",
       "800004  [(e, NN), (f, NNS), (f, VBP), (e, JJ), (c, NNS...  Late_Night  "
      ]
     },
     "execution_count": 107,
     "metadata": {},
     "output_type": "execute_result"
    }
   ],
   "source": [
    "tweets.head()"
   ]
  },
  {
   "cell_type": "code",
   "execution_count": 110,
   "metadata": {},
   "outputs": [
    {
     "data": {
      "text/html": [
       "<div>\n",
       "<style scoped>\n",
       "    .dataframe tbody tr th:only-of-type {\n",
       "        vertical-align: middle;\n",
       "    }\n",
       "\n",
       "    .dataframe tbody tr th {\n",
       "        vertical-align: top;\n",
       "    }\n",
       "\n",
       "    .dataframe thead th {\n",
       "        text-align: right;\n",
       "    }\n",
       "</style>\n",
       "<table border=\"1\" class=\"dataframe\">\n",
       "  <thead>\n",
       "    <tr style=\"text-align: right;\">\n",
       "      <th></th>\n",
       "      <th>text</th>\n",
       "      <th>inValidUrl</th>\n",
       "      <th>Parties</th>\n",
       "    </tr>\n",
       "  </thead>\n",
       "  <tbody>\n",
       "    <tr>\n",
       "      <th>0</th>\n",
       "      <td>@switchfoot http://twitpic.com/2y1zl - Awww, t...</td>\n",
       "      <td>InvalidUrl</td>\n",
       "      <td>[switchfoot]</td>\n",
       "    </tr>\n",
       "    <tr>\n",
       "      <th>1</th>\n",
       "      <td>is upset that he can't update his Facebook by ...</td>\n",
       "      <td>ValidUrl</td>\n",
       "      <td>[]</td>\n",
       "    </tr>\n",
       "    <tr>\n",
       "      <th>2</th>\n",
       "      <td>@Kenichan I dived many times for the ball. Man...</td>\n",
       "      <td>ValidUrl</td>\n",
       "      <td>[Kenichan]</td>\n",
       "    </tr>\n",
       "    <tr>\n",
       "      <th>3</th>\n",
       "      <td>my whole body feels itchy and like its on fire</td>\n",
       "      <td>ValidUrl</td>\n",
       "      <td>[]</td>\n",
       "    </tr>\n",
       "    <tr>\n",
       "      <th>4</th>\n",
       "      <td>@nationwideclass no, it's not behaving at all....</td>\n",
       "      <td>ValidUrl</td>\n",
       "      <td>[nationwideclass]</td>\n",
       "    </tr>\n",
       "    <tr>\n",
       "      <th>5</th>\n",
       "      <td>@Kwesidei not the whole crew</td>\n",
       "      <td>ValidUrl</td>\n",
       "      <td>[Kwesidei]</td>\n",
       "    </tr>\n",
       "    <tr>\n",
       "      <th>6</th>\n",
       "      <td>Need a hug</td>\n",
       "      <td>ValidUrl</td>\n",
       "      <td>[]</td>\n",
       "    </tr>\n",
       "    <tr>\n",
       "      <th>7</th>\n",
       "      <td>@LOLTrish hey  long time no see! Yes.. Rains a...</td>\n",
       "      <td>ValidUrl</td>\n",
       "      <td>[LOLTrish]</td>\n",
       "    </tr>\n",
       "    <tr>\n",
       "      <th>8</th>\n",
       "      <td>@Tatiana_K nope they didn't have it</td>\n",
       "      <td>ValidUrl</td>\n",
       "      <td>[Tatiana_K]</td>\n",
       "    </tr>\n",
       "    <tr>\n",
       "      <th>9</th>\n",
       "      <td>@twittera que me muera ?</td>\n",
       "      <td>ValidUrl</td>\n",
       "      <td>[twittera]</td>\n",
       "    </tr>\n",
       "    <tr>\n",
       "      <th>10</th>\n",
       "      <td>spring break in plain city... it's snowing</td>\n",
       "      <td>ValidUrl</td>\n",
       "      <td>[]</td>\n",
       "    </tr>\n",
       "    <tr>\n",
       "      <th>11</th>\n",
       "      <td>I just re-pierced my ears</td>\n",
       "      <td>ValidUrl</td>\n",
       "      <td>[]</td>\n",
       "    </tr>\n",
       "    <tr>\n",
       "      <th>12</th>\n",
       "      <td>@caregiving I couldn't bear to watch it.  And ...</td>\n",
       "      <td>ValidUrl</td>\n",
       "      <td>[caregiving]</td>\n",
       "    </tr>\n",
       "    <tr>\n",
       "      <th>13</th>\n",
       "      <td>@octolinz16 It it counts, idk why I did either...</td>\n",
       "      <td>ValidUrl</td>\n",
       "      <td>[octolinz16]</td>\n",
       "    </tr>\n",
       "    <tr>\n",
       "      <th>14</th>\n",
       "      <td>@smarrison i would've been the first, but i di...</td>\n",
       "      <td>ValidUrl</td>\n",
       "      <td>[smarrison]</td>\n",
       "    </tr>\n",
       "    <tr>\n",
       "      <th>15</th>\n",
       "      <td>@iamjazzyfizzle I wish I got to watch it with ...</td>\n",
       "      <td>ValidUrl</td>\n",
       "      <td>[iamjazzyfizzle, iamlilnicki]</td>\n",
       "    </tr>\n",
       "    <tr>\n",
       "      <th>16</th>\n",
       "      <td>Hollis' death scene will hurt me severely to w...</td>\n",
       "      <td>ValidUrl</td>\n",
       "      <td>[]</td>\n",
       "    </tr>\n",
       "    <tr>\n",
       "      <th>17</th>\n",
       "      <td>about to file taxes</td>\n",
       "      <td>ValidUrl</td>\n",
       "      <td>[]</td>\n",
       "    </tr>\n",
       "    <tr>\n",
       "      <th>18</th>\n",
       "      <td>@LettyA ahh ive always wanted to see rent  lov...</td>\n",
       "      <td>ValidUrl</td>\n",
       "      <td>[LettyA]</td>\n",
       "    </tr>\n",
       "    <tr>\n",
       "      <th>19</th>\n",
       "      <td>@FakerPattyPattz Oh dear. Were you drinking ou...</td>\n",
       "      <td>ValidUrl</td>\n",
       "      <td>[FakerPattyPattz]</td>\n",
       "    </tr>\n",
       "    <tr>\n",
       "      <th>20</th>\n",
       "      <td>@alydesigns i was out most of the day so didn'...</td>\n",
       "      <td>ValidUrl</td>\n",
       "      <td>[alydesigns]</td>\n",
       "    </tr>\n",
       "    <tr>\n",
       "      <th>21</th>\n",
       "      <td>one of my friend called me, and asked to meet ...</td>\n",
       "      <td>ValidUrl</td>\n",
       "      <td>[]</td>\n",
       "    </tr>\n",
       "    <tr>\n",
       "      <th>22</th>\n",
       "      <td>@angry_barista I baked you a cake but I ated it</td>\n",
       "      <td>ValidUrl</td>\n",
       "      <td>[angry_barista]</td>\n",
       "    </tr>\n",
       "    <tr>\n",
       "      <th>23</th>\n",
       "      <td>this week is not going as i had hoped</td>\n",
       "      <td>ValidUrl</td>\n",
       "      <td>[]</td>\n",
       "    </tr>\n",
       "    <tr>\n",
       "      <th>24</th>\n",
       "      <td>blagh class at 8 tomorrow</td>\n",
       "      <td>ValidUrl</td>\n",
       "      <td>[]</td>\n",
       "    </tr>\n",
       "    <tr>\n",
       "      <th>25</th>\n",
       "      <td>I hate when I have to call and wake people up</td>\n",
       "      <td>ValidUrl</td>\n",
       "      <td>[]</td>\n",
       "    </tr>\n",
       "    <tr>\n",
       "      <th>26</th>\n",
       "      <td>Just going to cry myself to sleep after watchi...</td>\n",
       "      <td>ValidUrl</td>\n",
       "      <td>[]</td>\n",
       "    </tr>\n",
       "    <tr>\n",
       "      <th>27</th>\n",
       "      <td>im sad now  Miss.Lilly</td>\n",
       "      <td>ValidUrl</td>\n",
       "      <td>[]</td>\n",
       "    </tr>\n",
       "    <tr>\n",
       "      <th>28</th>\n",
       "      <td>ooooh.... LOL  that leslie.... and ok I won't ...</td>\n",
       "      <td>ValidUrl</td>\n",
       "      <td>[]</td>\n",
       "    </tr>\n",
       "    <tr>\n",
       "      <th>29</th>\n",
       "      <td>Meh... Almost Lover is the exception... this t...</td>\n",
       "      <td>ValidUrl</td>\n",
       "      <td>[]</td>\n",
       "    </tr>\n",
       "    <tr>\n",
       "      <th>30</th>\n",
       "      <td>some1 hacked my account on aim  now i have to ...</td>\n",
       "      <td>ValidUrl</td>\n",
       "      <td>[]</td>\n",
       "    </tr>\n",
       "    <tr>\n",
       "      <th>31</th>\n",
       "      <td>@alielayus I want to go to promote GEAR AND GR...</td>\n",
       "      <td>ValidUrl</td>\n",
       "      <td>[alielayus]</td>\n",
       "    </tr>\n",
       "    <tr>\n",
       "      <th>32</th>\n",
       "      <td>thought sleeping in was an option tomorrow but...</td>\n",
       "      <td>ValidUrl</td>\n",
       "      <td>[]</td>\n",
       "    </tr>\n",
       "    <tr>\n",
       "      <th>33</th>\n",
       "      <td>@julieebaby awe i love you too!!!! 1 am here  ...</td>\n",
       "      <td>ValidUrl</td>\n",
       "      <td>[julieebaby]</td>\n",
       "    </tr>\n",
       "    <tr>\n",
       "      <th>34</th>\n",
       "      <td>@HumpNinja I cry my asian eyes to sleep at night</td>\n",
       "      <td>ValidUrl</td>\n",
       "      <td>[HumpNinja]</td>\n",
       "    </tr>\n",
       "    <tr>\n",
       "      <th>35</th>\n",
       "      <td>ok I'm sick and spent an hour sitting in the s...</td>\n",
       "      <td>ValidUrl</td>\n",
       "      <td>[]</td>\n",
       "    </tr>\n",
       "    <tr>\n",
       "      <th>36</th>\n",
       "      <td>@cocomix04 ill tell ya the story later  not a ...</td>\n",
       "      <td>ValidUrl</td>\n",
       "      <td>[cocomix04]</td>\n",
       "    </tr>\n",
       "    <tr>\n",
       "      <th>37</th>\n",
       "      <td>@MissXu sorry! bed time came here (GMT+1)   ht...</td>\n",
       "      <td>InvalidUrl</td>\n",
       "      <td>[MissXu]</td>\n",
       "    </tr>\n",
       "    <tr>\n",
       "      <th>38</th>\n",
       "      <td>@fleurylis I don't either. Its depressing. I d...</td>\n",
       "      <td>ValidUrl</td>\n",
       "      <td>[fleurylis]</td>\n",
       "    </tr>\n",
       "    <tr>\n",
       "      <th>39</th>\n",
       "      <td>Bed. Class 8-12. Work 12-3. Gym 3-5 or 6. Then...</td>\n",
       "      <td>ValidUrl</td>\n",
       "      <td>[]</td>\n",
       "    </tr>\n",
       "    <tr>\n",
       "      <th>40</th>\n",
       "      <td>really don't feel like getting up today... but...</td>\n",
       "      <td>ValidUrl</td>\n",
       "      <td>[]</td>\n",
       "    </tr>\n",
       "    <tr>\n",
       "      <th>41</th>\n",
       "      <td>He's the reason for the teardrops on my guitar...</td>\n",
       "      <td>ValidUrl</td>\n",
       "      <td>[]</td>\n",
       "    </tr>\n",
       "    <tr>\n",
       "      <th>42</th>\n",
       "      <td>Sad, sad, sad. I don't know why but I hate thi...</td>\n",
       "      <td>ValidUrl</td>\n",
       "      <td>[]</td>\n",
       "    </tr>\n",
       "    <tr>\n",
       "      <th>43</th>\n",
       "      <td>@JonathanRKnight Awww I soo wish I was there t...</td>\n",
       "      <td>ValidUrl</td>\n",
       "      <td>[JonathanRKnight]</td>\n",
       "    </tr>\n",
       "    <tr>\n",
       "      <th>44</th>\n",
       "      <td>Falling asleep. Just heard about that Tracy gi...</td>\n",
       "      <td>ValidUrl</td>\n",
       "      <td>[]</td>\n",
       "    </tr>\n",
       "    <tr>\n",
       "      <th>45</th>\n",
       "      <td>@Viennah Yay! I'm happy for you with your job!...</td>\n",
       "      <td>ValidUrl</td>\n",
       "      <td>[Viennah]</td>\n",
       "    </tr>\n",
       "    <tr>\n",
       "      <th>46</th>\n",
       "      <td>Just checked my user timeline on my blackberry...</td>\n",
       "      <td>ValidUrl</td>\n",
       "      <td>[]</td>\n",
       "    </tr>\n",
       "    <tr>\n",
       "      <th>47</th>\n",
       "      <td>Oh man...was ironing @jeancjumbe's fave top to...</td>\n",
       "      <td>ValidUrl</td>\n",
       "      <td>[jeancjumbe]</td>\n",
       "    </tr>\n",
       "    <tr>\n",
       "      <th>48</th>\n",
       "      <td>is strangely sad about LiLo and SamRo breaking...</td>\n",
       "      <td>ValidUrl</td>\n",
       "      <td>[]</td>\n",
       "    </tr>\n",
       "    <tr>\n",
       "      <th>49</th>\n",
       "      <td>@tea oh! i'm so sorry  i didn't think about th...</td>\n",
       "      <td>ValidUrl</td>\n",
       "      <td>[tea]</td>\n",
       "    </tr>\n",
       "  </tbody>\n",
       "</table>\n",
       "</div>"
      ],
      "text/plain": [
       "                                                 text  inValidUrl  \\\n",
       "0   @switchfoot http://twitpic.com/2y1zl - Awww, t...  InvalidUrl   \n",
       "1   is upset that he can't update his Facebook by ...    ValidUrl   \n",
       "2   @Kenichan I dived many times for the ball. Man...    ValidUrl   \n",
       "3     my whole body feels itchy and like its on fire     ValidUrl   \n",
       "4   @nationwideclass no, it's not behaving at all....    ValidUrl   \n",
       "5                       @Kwesidei not the whole crew     ValidUrl   \n",
       "6                                         Need a hug     ValidUrl   \n",
       "7   @LOLTrish hey  long time no see! Yes.. Rains a...    ValidUrl   \n",
       "8                @Tatiana_K nope they didn't have it     ValidUrl   \n",
       "9                           @twittera que me muera ?     ValidUrl   \n",
       "10        spring break in plain city... it's snowing     ValidUrl   \n",
       "11                         I just re-pierced my ears     ValidUrl   \n",
       "12  @caregiving I couldn't bear to watch it.  And ...    ValidUrl   \n",
       "13  @octolinz16 It it counts, idk why I did either...    ValidUrl   \n",
       "14  @smarrison i would've been the first, but i di...    ValidUrl   \n",
       "15  @iamjazzyfizzle I wish I got to watch it with ...    ValidUrl   \n",
       "16  Hollis' death scene will hurt me severely to w...    ValidUrl   \n",
       "17                               about to file taxes     ValidUrl   \n",
       "18  @LettyA ahh ive always wanted to see rent  lov...    ValidUrl   \n",
       "19  @FakerPattyPattz Oh dear. Were you drinking ou...    ValidUrl   \n",
       "20  @alydesigns i was out most of the day so didn'...    ValidUrl   \n",
       "21  one of my friend called me, and asked to meet ...    ValidUrl   \n",
       "22   @angry_barista I baked you a cake but I ated it     ValidUrl   \n",
       "23             this week is not going as i had hoped     ValidUrl   \n",
       "24                         blagh class at 8 tomorrow     ValidUrl   \n",
       "25     I hate when I have to call and wake people up     ValidUrl   \n",
       "26  Just going to cry myself to sleep after watchi...    ValidUrl   \n",
       "27                             im sad now  Miss.Lilly    ValidUrl   \n",
       "28  ooooh.... LOL  that leslie.... and ok I won't ...    ValidUrl   \n",
       "29  Meh... Almost Lover is the exception... this t...    ValidUrl   \n",
       "30  some1 hacked my account on aim  now i have to ...    ValidUrl   \n",
       "31  @alielayus I want to go to promote GEAR AND GR...    ValidUrl   \n",
       "32  thought sleeping in was an option tomorrow but...    ValidUrl   \n",
       "33  @julieebaby awe i love you too!!!! 1 am here  ...    ValidUrl   \n",
       "34  @HumpNinja I cry my asian eyes to sleep at night     ValidUrl   \n",
       "35  ok I'm sick and spent an hour sitting in the s...    ValidUrl   \n",
       "36  @cocomix04 ill tell ya the story later  not a ...    ValidUrl   \n",
       "37  @MissXu sorry! bed time came here (GMT+1)   ht...  InvalidUrl   \n",
       "38  @fleurylis I don't either. Its depressing. I d...    ValidUrl   \n",
       "39  Bed. Class 8-12. Work 12-3. Gym 3-5 or 6. Then...    ValidUrl   \n",
       "40  really don't feel like getting up today... but...    ValidUrl   \n",
       "41  He's the reason for the teardrops on my guitar...    ValidUrl   \n",
       "42  Sad, sad, sad. I don't know why but I hate thi...    ValidUrl   \n",
       "43  @JonathanRKnight Awww I soo wish I was there t...    ValidUrl   \n",
       "44  Falling asleep. Just heard about that Tracy gi...    ValidUrl   \n",
       "45  @Viennah Yay! I'm happy for you with your job!...    ValidUrl   \n",
       "46  Just checked my user timeline on my blackberry...    ValidUrl   \n",
       "47  Oh man...was ironing @jeancjumbe's fave top to...    ValidUrl   \n",
       "48  is strangely sad about LiLo and SamRo breaking...    ValidUrl   \n",
       "49  @tea oh! i'm so sorry  i didn't think about th...    ValidUrl   \n",
       "\n",
       "                          Parties  \n",
       "0                    [switchfoot]  \n",
       "1                              []  \n",
       "2                      [Kenichan]  \n",
       "3                              []  \n",
       "4               [nationwideclass]  \n",
       "5                      [Kwesidei]  \n",
       "6                              []  \n",
       "7                      [LOLTrish]  \n",
       "8                     [Tatiana_K]  \n",
       "9                      [twittera]  \n",
       "10                             []  \n",
       "11                             []  \n",
       "12                   [caregiving]  \n",
       "13                   [octolinz16]  \n",
       "14                    [smarrison]  \n",
       "15  [iamjazzyfizzle, iamlilnicki]  \n",
       "16                             []  \n",
       "17                             []  \n",
       "18                       [LettyA]  \n",
       "19              [FakerPattyPattz]  \n",
       "20                   [alydesigns]  \n",
       "21                             []  \n",
       "22                [angry_barista]  \n",
       "23                             []  \n",
       "24                             []  \n",
       "25                             []  \n",
       "26                             []  \n",
       "27                             []  \n",
       "28                             []  \n",
       "29                             []  \n",
       "30                             []  \n",
       "31                    [alielayus]  \n",
       "32                             []  \n",
       "33                   [julieebaby]  \n",
       "34                    [HumpNinja]  \n",
       "35                             []  \n",
       "36                    [cocomix04]  \n",
       "37                       [MissXu]  \n",
       "38                    [fleurylis]  \n",
       "39                             []  \n",
       "40                             []  \n",
       "41                             []  \n",
       "42                             []  \n",
       "43              [JonathanRKnight]  \n",
       "44                             []  \n",
       "45                      [Viennah]  \n",
       "46                             []  \n",
       "47                   [jeancjumbe]  \n",
       "48                             []  \n",
       "49                          [tea]  "
      ]
     },
     "execution_count": 110,
     "metadata": {},
     "output_type": "execute_result"
    }
   ],
   "source": [
    "tweets[tweets.target == 'NEGATIVE'][['text','inValidUrl','Parties']].head(50)"
   ]
  },
  {
   "cell_type": "markdown",
   "metadata": {},
   "source": [
    "Record - \"0\",\"1467810369\",\"Mon Apr 06 22:19:45 PDT 2009\",\"NO_QUERY\",\"_TheSpecialOne_\",\"@switchfoot http://twitpic.com/2y1zl - Awww, that's a bummer.  You shoulda got David Carr of Third Day to do it. ;D\""
   ]
  },
  {
   "cell_type": "markdown",
   "metadata": {},
   "source": [
    "# Model had identified these statements as risk "
   ]
  }
 ],
 "metadata": {
  "kernelspec": {
   "display_name": "Python 3",
   "language": "python",
   "name": "python3"
  },
  "language_info": {
   "codemirror_mode": {
    "name": "ipython",
    "version": 3
   },
   "file_extension": ".py",
   "mimetype": "text/x-python",
   "name": "python",
   "nbconvert_exporter": "python",
   "pygments_lexer": "ipython3",
   "version": "3.7.6"
  }
 },
 "nbformat": 4,
 "nbformat_minor": 4
}
